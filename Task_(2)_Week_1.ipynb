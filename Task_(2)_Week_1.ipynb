{
  "nbformat": 4,
  "nbformat_minor": 0,
  "metadata": {
    "colab": {
      "provenance": [],
      "include_colab_link": true
    },
    "kernelspec": {
      "name": "python3",
      "display_name": "Python 3"
    },
    "language_info": {
      "name": "python"
    }
  },
  "cells": [
    {
      "cell_type": "markdown",
      "metadata": {
        "id": "view-in-github",
        "colab_type": "text"
      },
      "source": [
        "<a href=\"https://colab.research.google.com/github/rero2h/T5/blob/main/Task_(2)_Week_1.ipynb\" target=\"_parent\"><img src=\"https://colab.research.google.com/assets/colab-badge.svg\" alt=\"Open In Colab\"/></a>"
      ]
    },
    {
      "cell_type": "markdown",
      "source": [
        "## Objective\n",
        "* The objective of this exercise is to explore and visualize the Traffic Index dataset to gain insights and understand the patterns in the data."
      ],
      "metadata": {
        "id": "4TflBwn4kNdJ"
      }
    },
    {
      "cell_type": "markdown",
      "source": [
        "##Dataset Description"
      ],
      "metadata": {
        "id": "8vb3xNKsoP0r"
      }
    },
    {
      "cell_type": "markdown",
      "source": [
        "| Column Name | Description | Data Type |\n",
        "| :---------------- | :------: | ----: |\n",
        "|   City  |   Name of the city\t   | Object |\n",
        "| Datetime           |   Date and time of the data entry\t   | Object |\n",
        "|  TrafficIndexLive    |  Real-time traffic index\t   | Int |\n",
        "|  Jamscount |  Number of traffic jams\t   | Int |\n",
        "|   JamsDelay  |   Total delay caused by traffic jams (in minutes)\t   | Float |\n",
        "|JamsLength           |   Total length of traffic jams (in kilometers)\t   | Float |\n",
        "|  TrafficIndexWeekAgo    |  Traffic index one week ago\t   | Int |\n",
        "|  TravelTimeHistoric |  Historical average travel time (in minutes)\t   | Float |\n",
        "|   TravelTimeLive  |   Real-time travel time (in minutes)\t   | Float |\n"
      ],
      "metadata": {
        "id": "FQjSVR4h8fu8"
      }
    },
    {
      "cell_type": "markdown",
      "source": [
        "# Tasks"
      ],
      "metadata": {
        "id": "WBNuyQVhlpj5"
      }
    },
    {
      "cell_type": "markdown",
      "source": [
        "## 1. Exploratory Data Analysis (EDA)"
      ],
      "metadata": {
        "id": "hkp41fRQoUSj"
      }
    },
    {
      "cell_type": "markdown",
      "source": [
        "### Perform summary statistics on the dataset."
      ],
      "metadata": {
        "id": "RQpjcBLfoZgr"
      }
    },
    {
      "cell_type": "code",
      "source": [
        "import pandas as pd\n",
        "import seaborn as sns\n",
        "import matplotlib.pyplot as plt"
      ],
      "metadata": {
        "id": "pG-HRzzniMkJ"
      },
      "execution_count": 9,
      "outputs": []
    },
    {
      "cell_type": "code",
      "source": [
        "df = pd.read_csv(\"Task (2) Dataset.csv\")"
      ],
      "metadata": {
        "id": "XBugym24iQ40"
      },
      "execution_count": 10,
      "outputs": []
    },
    {
      "cell_type": "code",
      "source": [
        "df.head()"
      ],
      "metadata": {
        "id": "nib-qWydipUb",
        "outputId": "8f9bfa2b-71ba-4f1e-ca86-05be7f39ecfa",
        "colab": {
          "base_uri": "https://localhost:8080/",
          "height": 206
        }
      },
      "execution_count": 11,
      "outputs": [
        {
          "output_type": "execute_result",
          "data": {
            "text/plain": [
              "       City             Datetime  TrafficIndexLive  JamsCount  JamsDelay  \\\n",
              "0  Abudhabi  2023-07-07 08:01:30                 6          4       15.6   \n",
              "1  Abudhabi  2023-07-07 09:01:30                 7          7       20.5   \n",
              "2  Abudhabi  2023-07-07 10:46:30                 7          8       25.0   \n",
              "3  Abudhabi  2023-07-07 11:16:30                 8         11       30.6   \n",
              "4  Abudhabi  2023-07-07 12:01:30                 8         20       62.1   \n",
              "\n",
              "   JamsLength  TrafficIndexWeekAgo  TravelTimeHistoric  TravelTimeLive  \n",
              "0         0.7                   13           59.611918       54.803617  \n",
              "1         1.7                    8           60.221387       56.118629  \n",
              "2         2.8                    6           59.161978       55.518834  \n",
              "3         5.5                    6           59.738138       56.413917  \n",
              "4         6.5                    5           58.958314       56.059246  "
            ],
            "text/html": [
              "\n",
              "  <div id=\"df-ac09cdd8-fe1a-474e-87a8-f6efd58f561c\" class=\"colab-df-container\">\n",
              "    <div>\n",
              "<style scoped>\n",
              "    .dataframe tbody tr th:only-of-type {\n",
              "        vertical-align: middle;\n",
              "    }\n",
              "\n",
              "    .dataframe tbody tr th {\n",
              "        vertical-align: top;\n",
              "    }\n",
              "\n",
              "    .dataframe thead th {\n",
              "        text-align: right;\n",
              "    }\n",
              "</style>\n",
              "<table border=\"1\" class=\"dataframe\">\n",
              "  <thead>\n",
              "    <tr style=\"text-align: right;\">\n",
              "      <th></th>\n",
              "      <th>City</th>\n",
              "      <th>Datetime</th>\n",
              "      <th>TrafficIndexLive</th>\n",
              "      <th>JamsCount</th>\n",
              "      <th>JamsDelay</th>\n",
              "      <th>JamsLength</th>\n",
              "      <th>TrafficIndexWeekAgo</th>\n",
              "      <th>TravelTimeHistoric</th>\n",
              "      <th>TravelTimeLive</th>\n",
              "    </tr>\n",
              "  </thead>\n",
              "  <tbody>\n",
              "    <tr>\n",
              "      <th>0</th>\n",
              "      <td>Abudhabi</td>\n",
              "      <td>2023-07-07 08:01:30</td>\n",
              "      <td>6</td>\n",
              "      <td>4</td>\n",
              "      <td>15.6</td>\n",
              "      <td>0.7</td>\n",
              "      <td>13</td>\n",
              "      <td>59.611918</td>\n",
              "      <td>54.803617</td>\n",
              "    </tr>\n",
              "    <tr>\n",
              "      <th>1</th>\n",
              "      <td>Abudhabi</td>\n",
              "      <td>2023-07-07 09:01:30</td>\n",
              "      <td>7</td>\n",
              "      <td>7</td>\n",
              "      <td>20.5</td>\n",
              "      <td>1.7</td>\n",
              "      <td>8</td>\n",
              "      <td>60.221387</td>\n",
              "      <td>56.118629</td>\n",
              "    </tr>\n",
              "    <tr>\n",
              "      <th>2</th>\n",
              "      <td>Abudhabi</td>\n",
              "      <td>2023-07-07 10:46:30</td>\n",
              "      <td>7</td>\n",
              "      <td>8</td>\n",
              "      <td>25.0</td>\n",
              "      <td>2.8</td>\n",
              "      <td>6</td>\n",
              "      <td>59.161978</td>\n",
              "      <td>55.518834</td>\n",
              "    </tr>\n",
              "    <tr>\n",
              "      <th>3</th>\n",
              "      <td>Abudhabi</td>\n",
              "      <td>2023-07-07 11:16:30</td>\n",
              "      <td>8</td>\n",
              "      <td>11</td>\n",
              "      <td>30.6</td>\n",
              "      <td>5.5</td>\n",
              "      <td>6</td>\n",
              "      <td>59.738138</td>\n",
              "      <td>56.413917</td>\n",
              "    </tr>\n",
              "    <tr>\n",
              "      <th>4</th>\n",
              "      <td>Abudhabi</td>\n",
              "      <td>2023-07-07 12:01:30</td>\n",
              "      <td>8</td>\n",
              "      <td>20</td>\n",
              "      <td>62.1</td>\n",
              "      <td>6.5</td>\n",
              "      <td>5</td>\n",
              "      <td>58.958314</td>\n",
              "      <td>56.059246</td>\n",
              "    </tr>\n",
              "  </tbody>\n",
              "</table>\n",
              "</div>\n",
              "    <div class=\"colab-df-buttons\">\n",
              "\n",
              "  <div class=\"colab-df-container\">\n",
              "    <button class=\"colab-df-convert\" onclick=\"convertToInteractive('df-ac09cdd8-fe1a-474e-87a8-f6efd58f561c')\"\n",
              "            title=\"Convert this dataframe to an interactive table.\"\n",
              "            style=\"display:none;\">\n",
              "\n",
              "  <svg xmlns=\"http://www.w3.org/2000/svg\" height=\"24px\" viewBox=\"0 -960 960 960\">\n",
              "    <path d=\"M120-120v-720h720v720H120Zm60-500h600v-160H180v160Zm220 220h160v-160H400v160Zm0 220h160v-160H400v160ZM180-400h160v-160H180v160Zm440 0h160v-160H620v160ZM180-180h160v-160H180v160Zm440 0h160v-160H620v160Z\"/>\n",
              "  </svg>\n",
              "    </button>\n",
              "\n",
              "  <style>\n",
              "    .colab-df-container {\n",
              "      display:flex;\n",
              "      gap: 12px;\n",
              "    }\n",
              "\n",
              "    .colab-df-convert {\n",
              "      background-color: #E8F0FE;\n",
              "      border: none;\n",
              "      border-radius: 50%;\n",
              "      cursor: pointer;\n",
              "      display: none;\n",
              "      fill: #1967D2;\n",
              "      height: 32px;\n",
              "      padding: 0 0 0 0;\n",
              "      width: 32px;\n",
              "    }\n",
              "\n",
              "    .colab-df-convert:hover {\n",
              "      background-color: #E2EBFA;\n",
              "      box-shadow: 0px 1px 2px rgba(60, 64, 67, 0.3), 0px 1px 3px 1px rgba(60, 64, 67, 0.15);\n",
              "      fill: #174EA6;\n",
              "    }\n",
              "\n",
              "    .colab-df-buttons div {\n",
              "      margin-bottom: 4px;\n",
              "    }\n",
              "\n",
              "    [theme=dark] .colab-df-convert {\n",
              "      background-color: #3B4455;\n",
              "      fill: #D2E3FC;\n",
              "    }\n",
              "\n",
              "    [theme=dark] .colab-df-convert:hover {\n",
              "      background-color: #434B5C;\n",
              "      box-shadow: 0px 1px 3px 1px rgba(0, 0, 0, 0.15);\n",
              "      filter: drop-shadow(0px 1px 2px rgba(0, 0, 0, 0.3));\n",
              "      fill: #FFFFFF;\n",
              "    }\n",
              "  </style>\n",
              "\n",
              "    <script>\n",
              "      const buttonEl =\n",
              "        document.querySelector('#df-ac09cdd8-fe1a-474e-87a8-f6efd58f561c button.colab-df-convert');\n",
              "      buttonEl.style.display =\n",
              "        google.colab.kernel.accessAllowed ? 'block' : 'none';\n",
              "\n",
              "      async function convertToInteractive(key) {\n",
              "        const element = document.querySelector('#df-ac09cdd8-fe1a-474e-87a8-f6efd58f561c');\n",
              "        const dataTable =\n",
              "          await google.colab.kernel.invokeFunction('convertToInteractive',\n",
              "                                                    [key], {});\n",
              "        if (!dataTable) return;\n",
              "\n",
              "        const docLinkHtml = 'Like what you see? Visit the ' +\n",
              "          '<a target=\"_blank\" href=https://colab.research.google.com/notebooks/data_table.ipynb>data table notebook</a>'\n",
              "          + ' to learn more about interactive tables.';\n",
              "        element.innerHTML = '';\n",
              "        dataTable['output_type'] = 'display_data';\n",
              "        await google.colab.output.renderOutput(dataTable, element);\n",
              "        const docLink = document.createElement('div');\n",
              "        docLink.innerHTML = docLinkHtml;\n",
              "        element.appendChild(docLink);\n",
              "      }\n",
              "    </script>\n",
              "  </div>\n",
              "\n",
              "\n",
              "<div id=\"df-4e188edf-3dd5-41aa-a1e3-e9cc22e8219e\">\n",
              "  <button class=\"colab-df-quickchart\" onclick=\"quickchart('df-4e188edf-3dd5-41aa-a1e3-e9cc22e8219e')\"\n",
              "            title=\"Suggest charts\"\n",
              "            style=\"display:none;\">\n",
              "\n",
              "<svg xmlns=\"http://www.w3.org/2000/svg\" height=\"24px\"viewBox=\"0 0 24 24\"\n",
              "     width=\"24px\">\n",
              "    <g>\n",
              "        <path d=\"M19 3H5c-1.1 0-2 .9-2 2v14c0 1.1.9 2 2 2h14c1.1 0 2-.9 2-2V5c0-1.1-.9-2-2-2zM9 17H7v-7h2v7zm4 0h-2V7h2v10zm4 0h-2v-4h2v4z\"/>\n",
              "    </g>\n",
              "</svg>\n",
              "  </button>\n",
              "\n",
              "<style>\n",
              "  .colab-df-quickchart {\n",
              "      --bg-color: #E8F0FE;\n",
              "      --fill-color: #1967D2;\n",
              "      --hover-bg-color: #E2EBFA;\n",
              "      --hover-fill-color: #174EA6;\n",
              "      --disabled-fill-color: #AAA;\n",
              "      --disabled-bg-color: #DDD;\n",
              "  }\n",
              "\n",
              "  [theme=dark] .colab-df-quickchart {\n",
              "      --bg-color: #3B4455;\n",
              "      --fill-color: #D2E3FC;\n",
              "      --hover-bg-color: #434B5C;\n",
              "      --hover-fill-color: #FFFFFF;\n",
              "      --disabled-bg-color: #3B4455;\n",
              "      --disabled-fill-color: #666;\n",
              "  }\n",
              "\n",
              "  .colab-df-quickchart {\n",
              "    background-color: var(--bg-color);\n",
              "    border: none;\n",
              "    border-radius: 50%;\n",
              "    cursor: pointer;\n",
              "    display: none;\n",
              "    fill: var(--fill-color);\n",
              "    height: 32px;\n",
              "    padding: 0;\n",
              "    width: 32px;\n",
              "  }\n",
              "\n",
              "  .colab-df-quickchart:hover {\n",
              "    background-color: var(--hover-bg-color);\n",
              "    box-shadow: 0 1px 2px rgba(60, 64, 67, 0.3), 0 1px 3px 1px rgba(60, 64, 67, 0.15);\n",
              "    fill: var(--button-hover-fill-color);\n",
              "  }\n",
              "\n",
              "  .colab-df-quickchart-complete:disabled,\n",
              "  .colab-df-quickchart-complete:disabled:hover {\n",
              "    background-color: var(--disabled-bg-color);\n",
              "    fill: var(--disabled-fill-color);\n",
              "    box-shadow: none;\n",
              "  }\n",
              "\n",
              "  .colab-df-spinner {\n",
              "    border: 2px solid var(--fill-color);\n",
              "    border-color: transparent;\n",
              "    border-bottom-color: var(--fill-color);\n",
              "    animation:\n",
              "      spin 1s steps(1) infinite;\n",
              "  }\n",
              "\n",
              "  @keyframes spin {\n",
              "    0% {\n",
              "      border-color: transparent;\n",
              "      border-bottom-color: var(--fill-color);\n",
              "      border-left-color: var(--fill-color);\n",
              "    }\n",
              "    20% {\n",
              "      border-color: transparent;\n",
              "      border-left-color: var(--fill-color);\n",
              "      border-top-color: var(--fill-color);\n",
              "    }\n",
              "    30% {\n",
              "      border-color: transparent;\n",
              "      border-left-color: var(--fill-color);\n",
              "      border-top-color: var(--fill-color);\n",
              "      border-right-color: var(--fill-color);\n",
              "    }\n",
              "    40% {\n",
              "      border-color: transparent;\n",
              "      border-right-color: var(--fill-color);\n",
              "      border-top-color: var(--fill-color);\n",
              "    }\n",
              "    60% {\n",
              "      border-color: transparent;\n",
              "      border-right-color: var(--fill-color);\n",
              "    }\n",
              "    80% {\n",
              "      border-color: transparent;\n",
              "      border-right-color: var(--fill-color);\n",
              "      border-bottom-color: var(--fill-color);\n",
              "    }\n",
              "    90% {\n",
              "      border-color: transparent;\n",
              "      border-bottom-color: var(--fill-color);\n",
              "    }\n",
              "  }\n",
              "</style>\n",
              "\n",
              "  <script>\n",
              "    async function quickchart(key) {\n",
              "      const quickchartButtonEl =\n",
              "        document.querySelector('#' + key + ' button');\n",
              "      quickchartButtonEl.disabled = true;  // To prevent multiple clicks.\n",
              "      quickchartButtonEl.classList.add('colab-df-spinner');\n",
              "      try {\n",
              "        const charts = await google.colab.kernel.invokeFunction(\n",
              "            'suggestCharts', [key], {});\n",
              "      } catch (error) {\n",
              "        console.error('Error during call to suggestCharts:', error);\n",
              "      }\n",
              "      quickchartButtonEl.classList.remove('colab-df-spinner');\n",
              "      quickchartButtonEl.classList.add('colab-df-quickchart-complete');\n",
              "    }\n",
              "    (() => {\n",
              "      let quickchartButtonEl =\n",
              "        document.querySelector('#df-4e188edf-3dd5-41aa-a1e3-e9cc22e8219e button');\n",
              "      quickchartButtonEl.style.display =\n",
              "        google.colab.kernel.accessAllowed ? 'block' : 'none';\n",
              "    })();\n",
              "  </script>\n",
              "</div>\n",
              "\n",
              "    </div>\n",
              "  </div>\n"
            ],
            "application/vnd.google.colaboratory.intrinsic+json": {
              "type": "dataframe",
              "variable_name": "df",
              "summary": "{\n  \"name\": \"df\",\n  \"rows\": 66639,\n  \"fields\": [\n    {\n      \"column\": \"City\",\n      \"properties\": {\n        \"dtype\": \"category\",\n        \"num_unique_values\": 11,\n        \"samples\": [\n          \"Dubai\",\n          \"Abudhabi\",\n          \"Medina\"\n        ],\n        \"semantic_type\": \"\",\n        \"description\": \"\"\n      }\n    },\n    {\n      \"column\": \"Datetime\",\n      \"properties\": {\n        \"dtype\": \"object\",\n        \"num_unique_values\": 22242,\n        \"samples\": [\n          \"2023-11-19 18:46:00\",\n          \"2023-05-18 09:16:30\",\n          \"2023-04-02 09:46:30\"\n        ],\n        \"semantic_type\": \"\",\n        \"description\": \"\"\n      }\n    },\n    {\n      \"column\": \"TrafficIndexLive\",\n      \"properties\": {\n        \"dtype\": \"number\",\n        \"std\": 13,\n        \"min\": 0,\n        \"max\": 138,\n        \"num_unique_values\": 102,\n        \"samples\": [\n          32,\n          74,\n          70\n        ],\n        \"semantic_type\": \"\",\n        \"description\": \"\"\n      }\n    },\n    {\n      \"column\": \"JamsCount\",\n      \"properties\": {\n        \"dtype\": \"number\",\n        \"std\": 107,\n        \"min\": 0,\n        \"max\": 1359,\n        \"num_unique_values\": 768,\n        \"samples\": [\n          698,\n          202,\n          696\n        ],\n        \"semantic_type\": \"\",\n        \"description\": \"\"\n      }\n    },\n    {\n      \"column\": \"JamsDelay\",\n      \"properties\": {\n        \"dtype\": \"number\",\n        \"std\": 470.0132235131879,\n        \"min\": 0.0,\n        \"max\": 9989.4,\n        \"num_unique_values\": 12637,\n        \"samples\": [\n          917.0,\n          627.7,\n          2067.0\n        ],\n        \"semantic_type\": \"\",\n        \"description\": \"\"\n      }\n    },\n    {\n      \"column\": \"JamsLength\",\n      \"properties\": {\n        \"dtype\": \"number\",\n        \"std\": 85.3525253734317,\n        \"min\": 0.0,\n        \"max\": 1173.9,\n        \"num_unique_values\": 4137,\n        \"samples\": [\n          749.6,\n          360.1,\n          146.3\n        ],\n        \"semantic_type\": \"\",\n        \"description\": \"\"\n      }\n    },\n    {\n      \"column\": \"TrafficIndexWeekAgo\",\n      \"properties\": {\n        \"dtype\": \"number\",\n        \"std\": 13,\n        \"min\": 0,\n        \"max\": 138,\n        \"num_unique_values\": 102,\n        \"samples\": [\n          32,\n          74,\n          70\n        ],\n        \"semantic_type\": \"\",\n        \"description\": \"\"\n      }\n    },\n    {\n      \"column\": \"TravelTimeHistoric\",\n      \"properties\": {\n        \"dtype\": \"number\",\n        \"std\": 10.5883842542188,\n        \"min\": 49.3813460010314,\n        \"max\": 120.14059250569,\n        \"num_unique_values\": 62772,\n        \"samples\": [\n          57.4662466811604,\n          59.7312862785207,\n          80.8994677984741\n        ],\n        \"semantic_type\": \"\",\n        \"description\": \"\"\n      }\n    },\n    {\n      \"column\": \"TravelTimeLive\",\n      \"properties\": {\n        \"dtype\": \"number\",\n        \"std\": 11.96672458737418,\n        \"min\": 46.7232346255013,\n        \"max\": 134.484138849661,\n        \"num_unique_values\": 62772,\n        \"samples\": [\n          60.2982618670754,\n          60.4747005980524,\n          76.0281197600624\n        ],\n        \"semantic_type\": \"\",\n        \"description\": \"\"\n      }\n    }\n  ]\n}"
            }
          },
          "metadata": {},
          "execution_count": 11
        }
      ]
    },
    {
      "cell_type": "code",
      "source": [
        "df.describe()"
      ],
      "metadata": {
        "id": "9CIk-QkApKLp",
        "outputId": "8c577d8c-9614-4f98-9e8a-54a17ff088f8",
        "colab": {
          "base_uri": "https://localhost:8080/",
          "height": 300
        }
      },
      "execution_count": 12,
      "outputs": [
        {
          "output_type": "execute_result",
          "data": {
            "text/plain": [
              "       TrafficIndexLive     JamsCount     JamsDelay    JamsLength  \\\n",
              "count      66639.000000  66639.000000  66639.000000  66639.000000   \n",
              "mean          14.043113     74.278531    288.353877     49.316135   \n",
              "std           13.488906    107.452022    470.013224     85.352525   \n",
              "min            0.000000      0.000000      0.000000      0.000000   \n",
              "25%            3.000000      9.000000     27.700000      3.000000   \n",
              "50%           10.000000     29.000000     95.700000     12.200000   \n",
              "75%           21.000000     95.000000    336.600000     53.500000   \n",
              "max          138.000000   1359.000000   9989.400000   1173.900000   \n",
              "\n",
              "       TrafficIndexWeekAgo  TravelTimeHistoric  TravelTimeLive  \n",
              "count         66639.000000        62772.000000    62772.000000  \n",
              "mean             13.981737           70.706601       70.048451  \n",
              "std              13.454922           10.588384       11.966725  \n",
              "min               0.000000           49.381346       46.723235  \n",
              "25%               3.000000           63.142591       60.712805  \n",
              "50%              10.000000           68.894790       68.247303  \n",
              "75%              21.000000           76.250975       77.043739  \n",
              "max             138.000000          120.140593      134.484139  "
            ],
            "text/html": [
              "\n",
              "  <div id=\"df-880e0de1-708e-4d14-991e-2d799374b6c4\" class=\"colab-df-container\">\n",
              "    <div>\n",
              "<style scoped>\n",
              "    .dataframe tbody tr th:only-of-type {\n",
              "        vertical-align: middle;\n",
              "    }\n",
              "\n",
              "    .dataframe tbody tr th {\n",
              "        vertical-align: top;\n",
              "    }\n",
              "\n",
              "    .dataframe thead th {\n",
              "        text-align: right;\n",
              "    }\n",
              "</style>\n",
              "<table border=\"1\" class=\"dataframe\">\n",
              "  <thead>\n",
              "    <tr style=\"text-align: right;\">\n",
              "      <th></th>\n",
              "      <th>TrafficIndexLive</th>\n",
              "      <th>JamsCount</th>\n",
              "      <th>JamsDelay</th>\n",
              "      <th>JamsLength</th>\n",
              "      <th>TrafficIndexWeekAgo</th>\n",
              "      <th>TravelTimeHistoric</th>\n",
              "      <th>TravelTimeLive</th>\n",
              "    </tr>\n",
              "  </thead>\n",
              "  <tbody>\n",
              "    <tr>\n",
              "      <th>count</th>\n",
              "      <td>66639.000000</td>\n",
              "      <td>66639.000000</td>\n",
              "      <td>66639.000000</td>\n",
              "      <td>66639.000000</td>\n",
              "      <td>66639.000000</td>\n",
              "      <td>62772.000000</td>\n",
              "      <td>62772.000000</td>\n",
              "    </tr>\n",
              "    <tr>\n",
              "      <th>mean</th>\n",
              "      <td>14.043113</td>\n",
              "      <td>74.278531</td>\n",
              "      <td>288.353877</td>\n",
              "      <td>49.316135</td>\n",
              "      <td>13.981737</td>\n",
              "      <td>70.706601</td>\n",
              "      <td>70.048451</td>\n",
              "    </tr>\n",
              "    <tr>\n",
              "      <th>std</th>\n",
              "      <td>13.488906</td>\n",
              "      <td>107.452022</td>\n",
              "      <td>470.013224</td>\n",
              "      <td>85.352525</td>\n",
              "      <td>13.454922</td>\n",
              "      <td>10.588384</td>\n",
              "      <td>11.966725</td>\n",
              "    </tr>\n",
              "    <tr>\n",
              "      <th>min</th>\n",
              "      <td>0.000000</td>\n",
              "      <td>0.000000</td>\n",
              "      <td>0.000000</td>\n",
              "      <td>0.000000</td>\n",
              "      <td>0.000000</td>\n",
              "      <td>49.381346</td>\n",
              "      <td>46.723235</td>\n",
              "    </tr>\n",
              "    <tr>\n",
              "      <th>25%</th>\n",
              "      <td>3.000000</td>\n",
              "      <td>9.000000</td>\n",
              "      <td>27.700000</td>\n",
              "      <td>3.000000</td>\n",
              "      <td>3.000000</td>\n",
              "      <td>63.142591</td>\n",
              "      <td>60.712805</td>\n",
              "    </tr>\n",
              "    <tr>\n",
              "      <th>50%</th>\n",
              "      <td>10.000000</td>\n",
              "      <td>29.000000</td>\n",
              "      <td>95.700000</td>\n",
              "      <td>12.200000</td>\n",
              "      <td>10.000000</td>\n",
              "      <td>68.894790</td>\n",
              "      <td>68.247303</td>\n",
              "    </tr>\n",
              "    <tr>\n",
              "      <th>75%</th>\n",
              "      <td>21.000000</td>\n",
              "      <td>95.000000</td>\n",
              "      <td>336.600000</td>\n",
              "      <td>53.500000</td>\n",
              "      <td>21.000000</td>\n",
              "      <td>76.250975</td>\n",
              "      <td>77.043739</td>\n",
              "    </tr>\n",
              "    <tr>\n",
              "      <th>max</th>\n",
              "      <td>138.000000</td>\n",
              "      <td>1359.000000</td>\n",
              "      <td>9989.400000</td>\n",
              "      <td>1173.900000</td>\n",
              "      <td>138.000000</td>\n",
              "      <td>120.140593</td>\n",
              "      <td>134.484139</td>\n",
              "    </tr>\n",
              "  </tbody>\n",
              "</table>\n",
              "</div>\n",
              "    <div class=\"colab-df-buttons\">\n",
              "\n",
              "  <div class=\"colab-df-container\">\n",
              "    <button class=\"colab-df-convert\" onclick=\"convertToInteractive('df-880e0de1-708e-4d14-991e-2d799374b6c4')\"\n",
              "            title=\"Convert this dataframe to an interactive table.\"\n",
              "            style=\"display:none;\">\n",
              "\n",
              "  <svg xmlns=\"http://www.w3.org/2000/svg\" height=\"24px\" viewBox=\"0 -960 960 960\">\n",
              "    <path d=\"M120-120v-720h720v720H120Zm60-500h600v-160H180v160Zm220 220h160v-160H400v160Zm0 220h160v-160H400v160ZM180-400h160v-160H180v160Zm440 0h160v-160H620v160ZM180-180h160v-160H180v160Zm440 0h160v-160H620v160Z\"/>\n",
              "  </svg>\n",
              "    </button>\n",
              "\n",
              "  <style>\n",
              "    .colab-df-container {\n",
              "      display:flex;\n",
              "      gap: 12px;\n",
              "    }\n",
              "\n",
              "    .colab-df-convert {\n",
              "      background-color: #E8F0FE;\n",
              "      border: none;\n",
              "      border-radius: 50%;\n",
              "      cursor: pointer;\n",
              "      display: none;\n",
              "      fill: #1967D2;\n",
              "      height: 32px;\n",
              "      padding: 0 0 0 0;\n",
              "      width: 32px;\n",
              "    }\n",
              "\n",
              "    .colab-df-convert:hover {\n",
              "      background-color: #E2EBFA;\n",
              "      box-shadow: 0px 1px 2px rgba(60, 64, 67, 0.3), 0px 1px 3px 1px rgba(60, 64, 67, 0.15);\n",
              "      fill: #174EA6;\n",
              "    }\n",
              "\n",
              "    .colab-df-buttons div {\n",
              "      margin-bottom: 4px;\n",
              "    }\n",
              "\n",
              "    [theme=dark] .colab-df-convert {\n",
              "      background-color: #3B4455;\n",
              "      fill: #D2E3FC;\n",
              "    }\n",
              "\n",
              "    [theme=dark] .colab-df-convert:hover {\n",
              "      background-color: #434B5C;\n",
              "      box-shadow: 0px 1px 3px 1px rgba(0, 0, 0, 0.15);\n",
              "      filter: drop-shadow(0px 1px 2px rgba(0, 0, 0, 0.3));\n",
              "      fill: #FFFFFF;\n",
              "    }\n",
              "  </style>\n",
              "\n",
              "    <script>\n",
              "      const buttonEl =\n",
              "        document.querySelector('#df-880e0de1-708e-4d14-991e-2d799374b6c4 button.colab-df-convert');\n",
              "      buttonEl.style.display =\n",
              "        google.colab.kernel.accessAllowed ? 'block' : 'none';\n",
              "\n",
              "      async function convertToInteractive(key) {\n",
              "        const element = document.querySelector('#df-880e0de1-708e-4d14-991e-2d799374b6c4');\n",
              "        const dataTable =\n",
              "          await google.colab.kernel.invokeFunction('convertToInteractive',\n",
              "                                                    [key], {});\n",
              "        if (!dataTable) return;\n",
              "\n",
              "        const docLinkHtml = 'Like what you see? Visit the ' +\n",
              "          '<a target=\"_blank\" href=https://colab.research.google.com/notebooks/data_table.ipynb>data table notebook</a>'\n",
              "          + ' to learn more about interactive tables.';\n",
              "        element.innerHTML = '';\n",
              "        dataTable['output_type'] = 'display_data';\n",
              "        await google.colab.output.renderOutput(dataTable, element);\n",
              "        const docLink = document.createElement('div');\n",
              "        docLink.innerHTML = docLinkHtml;\n",
              "        element.appendChild(docLink);\n",
              "      }\n",
              "    </script>\n",
              "  </div>\n",
              "\n",
              "\n",
              "<div id=\"df-60919020-3108-49a0-81c4-cb3b8da246a9\">\n",
              "  <button class=\"colab-df-quickchart\" onclick=\"quickchart('df-60919020-3108-49a0-81c4-cb3b8da246a9')\"\n",
              "            title=\"Suggest charts\"\n",
              "            style=\"display:none;\">\n",
              "\n",
              "<svg xmlns=\"http://www.w3.org/2000/svg\" height=\"24px\"viewBox=\"0 0 24 24\"\n",
              "     width=\"24px\">\n",
              "    <g>\n",
              "        <path d=\"M19 3H5c-1.1 0-2 .9-2 2v14c0 1.1.9 2 2 2h14c1.1 0 2-.9 2-2V5c0-1.1-.9-2-2-2zM9 17H7v-7h2v7zm4 0h-2V7h2v10zm4 0h-2v-4h2v4z\"/>\n",
              "    </g>\n",
              "</svg>\n",
              "  </button>\n",
              "\n",
              "<style>\n",
              "  .colab-df-quickchart {\n",
              "      --bg-color: #E8F0FE;\n",
              "      --fill-color: #1967D2;\n",
              "      --hover-bg-color: #E2EBFA;\n",
              "      --hover-fill-color: #174EA6;\n",
              "      --disabled-fill-color: #AAA;\n",
              "      --disabled-bg-color: #DDD;\n",
              "  }\n",
              "\n",
              "  [theme=dark] .colab-df-quickchart {\n",
              "      --bg-color: #3B4455;\n",
              "      --fill-color: #D2E3FC;\n",
              "      --hover-bg-color: #434B5C;\n",
              "      --hover-fill-color: #FFFFFF;\n",
              "      --disabled-bg-color: #3B4455;\n",
              "      --disabled-fill-color: #666;\n",
              "  }\n",
              "\n",
              "  .colab-df-quickchart {\n",
              "    background-color: var(--bg-color);\n",
              "    border: none;\n",
              "    border-radius: 50%;\n",
              "    cursor: pointer;\n",
              "    display: none;\n",
              "    fill: var(--fill-color);\n",
              "    height: 32px;\n",
              "    padding: 0;\n",
              "    width: 32px;\n",
              "  }\n",
              "\n",
              "  .colab-df-quickchart:hover {\n",
              "    background-color: var(--hover-bg-color);\n",
              "    box-shadow: 0 1px 2px rgba(60, 64, 67, 0.3), 0 1px 3px 1px rgba(60, 64, 67, 0.15);\n",
              "    fill: var(--button-hover-fill-color);\n",
              "  }\n",
              "\n",
              "  .colab-df-quickchart-complete:disabled,\n",
              "  .colab-df-quickchart-complete:disabled:hover {\n",
              "    background-color: var(--disabled-bg-color);\n",
              "    fill: var(--disabled-fill-color);\n",
              "    box-shadow: none;\n",
              "  }\n",
              "\n",
              "  .colab-df-spinner {\n",
              "    border: 2px solid var(--fill-color);\n",
              "    border-color: transparent;\n",
              "    border-bottom-color: var(--fill-color);\n",
              "    animation:\n",
              "      spin 1s steps(1) infinite;\n",
              "  }\n",
              "\n",
              "  @keyframes spin {\n",
              "    0% {\n",
              "      border-color: transparent;\n",
              "      border-bottom-color: var(--fill-color);\n",
              "      border-left-color: var(--fill-color);\n",
              "    }\n",
              "    20% {\n",
              "      border-color: transparent;\n",
              "      border-left-color: var(--fill-color);\n",
              "      border-top-color: var(--fill-color);\n",
              "    }\n",
              "    30% {\n",
              "      border-color: transparent;\n",
              "      border-left-color: var(--fill-color);\n",
              "      border-top-color: var(--fill-color);\n",
              "      border-right-color: var(--fill-color);\n",
              "    }\n",
              "    40% {\n",
              "      border-color: transparent;\n",
              "      border-right-color: var(--fill-color);\n",
              "      border-top-color: var(--fill-color);\n",
              "    }\n",
              "    60% {\n",
              "      border-color: transparent;\n",
              "      border-right-color: var(--fill-color);\n",
              "    }\n",
              "    80% {\n",
              "      border-color: transparent;\n",
              "      border-right-color: var(--fill-color);\n",
              "      border-bottom-color: var(--fill-color);\n",
              "    }\n",
              "    90% {\n",
              "      border-color: transparent;\n",
              "      border-bottom-color: var(--fill-color);\n",
              "    }\n",
              "  }\n",
              "</style>\n",
              "\n",
              "  <script>\n",
              "    async function quickchart(key) {\n",
              "      const quickchartButtonEl =\n",
              "        document.querySelector('#' + key + ' button');\n",
              "      quickchartButtonEl.disabled = true;  // To prevent multiple clicks.\n",
              "      quickchartButtonEl.classList.add('colab-df-spinner');\n",
              "      try {\n",
              "        const charts = await google.colab.kernel.invokeFunction(\n",
              "            'suggestCharts', [key], {});\n",
              "      } catch (error) {\n",
              "        console.error('Error during call to suggestCharts:', error);\n",
              "      }\n",
              "      quickchartButtonEl.classList.remove('colab-df-spinner');\n",
              "      quickchartButtonEl.classList.add('colab-df-quickchart-complete');\n",
              "    }\n",
              "    (() => {\n",
              "      let quickchartButtonEl =\n",
              "        document.querySelector('#df-60919020-3108-49a0-81c4-cb3b8da246a9 button');\n",
              "      quickchartButtonEl.style.display =\n",
              "        google.colab.kernel.accessAllowed ? 'block' : 'none';\n",
              "    })();\n",
              "  </script>\n",
              "</div>\n",
              "\n",
              "    </div>\n",
              "  </div>\n"
            ],
            "application/vnd.google.colaboratory.intrinsic+json": {
              "type": "dataframe",
              "summary": "{\n  \"name\": \"df\",\n  \"rows\": 8,\n  \"fields\": [\n    {\n      \"column\": \"TrafficIndexLive\",\n      \"properties\": {\n        \"dtype\": \"number\",\n        \"std\": 23550.409835239152,\n        \"min\": 0.0,\n        \"max\": 66639.0,\n        \"num_unique_values\": 8,\n        \"samples\": [\n          14.043112891850118,\n          10.0,\n          66639.0\n        ],\n        \"semantic_type\": \"\",\n        \"description\": \"\"\n      }\n    },\n    {\n      \"column\": \"JamsCount\",\n      \"properties\": {\n        \"dtype\": \"number\",\n        \"std\": 23480.391721601205,\n        \"min\": 0.0,\n        \"max\": 66639.0,\n        \"num_unique_values\": 8,\n        \"samples\": [\n          74.27853059019493,\n          29.0,\n          66639.0\n        ],\n        \"semantic_type\": \"\",\n        \"description\": \"\"\n      }\n    },\n    {\n      \"column\": \"JamsDelay\",\n      \"properties\": {\n        \"dtype\": \"number\",\n        \"std\": 23248.523226805275,\n        \"min\": 0.0,\n        \"max\": 66639.0,\n        \"num_unique_values\": 8,\n        \"samples\": [\n          288.35387685889646,\n          95.7,\n          66639.0\n        ],\n        \"semantic_type\": \"\",\n        \"description\": \"\"\n      }\n    },\n    {\n      \"column\": \"JamsLength\",\n      \"properties\": {\n        \"dtype\": \"number\",\n        \"std\": 23494.286536851854,\n        \"min\": 0.0,\n        \"max\": 66639.0,\n        \"num_unique_values\": 8,\n        \"samples\": [\n          49.3161346958988,\n          12.2,\n          66639.0\n        ],\n        \"semantic_type\": \"\",\n        \"description\": \"\"\n      }\n    },\n    {\n      \"column\": \"TrafficIndexWeekAgo\",\n      \"properties\": {\n        \"dtype\": \"number\",\n        \"std\": 23550.414660120416,\n        \"min\": 0.0,\n        \"max\": 66639.0,\n        \"num_unique_values\": 8,\n        \"samples\": [\n          13.981737421029727,\n          10.0,\n          66639.0\n        ],\n        \"semantic_type\": \"\",\n        \"description\": \"\"\n      }\n    },\n    {\n      \"column\": \"TravelTimeHistoric\",\n      \"properties\": {\n        \"dtype\": \"number\",\n        \"std\": 22170.085801578505,\n        \"min\": 10.5883842542188,\n        \"max\": 62772.0,\n        \"num_unique_values\": 8,\n        \"samples\": [\n          70.70660109887383,\n          68.89478985994006,\n          62772.0\n        ],\n        \"semantic_type\": \"\",\n        \"description\": \"\"\n      }\n    },\n    {\n      \"column\": \"TravelTimeLive\",\n      \"properties\": {\n        \"dtype\": \"number\",\n        \"std\": 22169.580165514442,\n        \"min\": 11.96672458737418,\n        \"max\": 62772.0,\n        \"num_unique_values\": 8,\n        \"samples\": [\n          70.04845106468044,\n          68.24730275211209,\n          62772.0\n        ],\n        \"semantic_type\": \"\",\n        \"description\": \"\"\n      }\n    }\n  ]\n}"
            }
          },
          "metadata": {},
          "execution_count": 12
        }
      ]
    },
    {
      "cell_type": "markdown",
      "source": [
        "### Identify and analyze patterns in the data."
      ],
      "metadata": {
        "id": "OjwISK8nocUT"
      }
    },
    {
      "cell_type": "code",
      "source": [
        "#type(df)\n",
        "# or speifec col or row\n",
        "type([['Datetime']])"
      ],
      "metadata": {
        "id": "gw8jkuYIpKeH",
        "outputId": "e9f41669-520f-4056-e38f-c0c6c1dbba55",
        "colab": {
          "base_uri": "https://localhost:8080/"
        }
      },
      "execution_count": 13,
      "outputs": [
        {
          "output_type": "execute_result",
          "data": {
            "text/plain": [
              "list"
            ]
          },
          "metadata": {},
          "execution_count": 13
        }
      ]
    },
    {
      "cell_type": "markdown",
      "source": [
        "### Visualize the distribution of key variables (e.g., Traffic_Index, Date)."
      ],
      "metadata": {
        "id": "4k-cDvL8oflR"
      }
    },
    {
      "cell_type": "code",
      "source": [
        "df.plot.line(x='Datetime', y='TrafficIndexLive')\n"
      ],
      "metadata": {
        "id": "sg0x1owJ4-wN",
        "outputId": "6180f746-8622-4515-bdd9-7501025169cf",
        "colab": {
          "base_uri": "https://localhost:8080/",
          "height": 466
        }
      },
      "execution_count": 27,
      "outputs": [
        {
          "output_type": "execute_result",
          "data": {
            "text/plain": [
              "<Axes: xlabel='Datetime'>"
            ]
          },
          "metadata": {},
          "execution_count": 27
        },
        {
          "output_type": "display_data",
          "data": {
            "text/plain": [
              "<Figure size 640x480 with 1 Axes>"
            ],
            "image/png": "[encoded data removed]"
          },
          "metadata": {}
        }
      ]
    },
    {
      "cell_type": "markdown",
      "source": [
        "### Explore relationships between variables (e.g., Traffic_Index vs. Weather_Condition).\n"
      ],
      "metadata": {
        "id": "Lz4jQtNBoih-"
      }
    },
    {
      "cell_type": "code",
      "source": [
        "sns.histplot(df['TrafficIndexLive'], bins=20)"
      ],
      "metadata": {
        "id": "2Txh8eI1pLJQ",
        "outputId": "9d2bfe01-5bb9-4ab3-b541-a9ad2cbf2f55",
        "colab": {
          "base_uri": "https://localhost:8080/",
          "height": 466
        }
      },
      "execution_count": 23,
      "outputs": [
        {
          "output_type": "execute_result",
          "data": {
            "text/plain": [
              "<Axes: xlabel='TrafficIndexLive', ylabel='Count'>"
            ]
          },
          "metadata": {},
          "execution_count": 23
        },
        {
          "output_type": "display_data",
          "data": {
            "text/plain": [
              "<Figure size 640x480 with 1 Axes>"
            ],
            "image/png": "[encoded data removed]"
          },
          "metadata": {}
        }
      ]
    },
    {
      "cell_type": "markdown",
      "source": [
        "## 2. Data Visualization"
      ],
      "metadata": {
        "id": "mZiDh1gronRD"
      }
    },
    {
      "cell_type": "markdown",
      "source": [
        "* Ensure the visualizations are clear and informative."
      ],
      "metadata": {
        "id": "WL4wC3iSqWuO"
      }
    },
    {
      "cell_type": "markdown",
      "source": [
        "### Create visualizations to illustrate the findings from the EDA.\n"
      ],
      "metadata": {
        "id": "VfUFvWxUopoh"
      }
    },
    {
      "cell_type": "code",
      "source": [],
      "metadata": {
        "id": "KAlacPHypMVh"
      },
      "execution_count": null,
      "outputs": []
    },
    {
      "cell_type": "markdown",
      "source": [
        "### Use appropriate plots such as histograms, bar charts, pie charts, scatter plots, and heatmaps."
      ],
      "metadata": {
        "id": "G4KCbzg4osSW"
      }
    },
    {
      "cell_type": "code",
      "source": [
        "plt.scatter(df['JamsLength'], df['JamsDelay'], color='blue', marker='o', alpha=0.5)\n"
      ],
      "metadata": {
        "id": "IKyAKt5apMp4",
        "outputId": "830bccb6-c06a-495e-d3a4-24b43c8d782d",
        "colab": {
          "base_uri": "https://localhost:8080/",
          "height": 447
        }
      },
      "execution_count": 59,
      "outputs": [
        {
          "output_type": "execute_result",
          "data": {
            "text/plain": [
              "<matplotlib.collections.PathCollection at 0x7ef7bf6460e0>"
            ]
          },
          "metadata": {},
          "execution_count": 59
        },
        {
          "output_type": "display_data",
          "data": {
            "text/plain": [
              "<Figure size 640x480 with 1 Axes>"
            ],
            "image/png": "[encoded data removed]"
          },
          "metadata": {}
        }
      ]
    },
    {
      "cell_type": "code",
      "source": [],
      "metadata": {
        "id": "3cmaYlTatZ7s"
      },
      "execution_count": null,
      "outputs": []
    },
    {
      "cell_type": "markdown",
      "source": [
        "## 3. Insights and Conclusions"
      ],
      "metadata": {
        "id": "breh9YkZoxiT"
      }
    },
    {
      "cell_type": "markdown",
      "source": [
        "* <h3>Summarize the key insights gained from the data analysis.<h3/>\n",
        "* <h3>Draw conclusions based on the patterns observed in the data.<h3/>"
      ],
      "metadata": {
        "id": "a9akovSwo5l2"
      }
    },
    {
      "cell_type": "markdown",
      "source": [
        "we can see that ntraffic was at his heighest in at noon"
      ],
      "metadata": {
        "id": "OHJ3fP5bE-k3"
      }
    }
  ]
}