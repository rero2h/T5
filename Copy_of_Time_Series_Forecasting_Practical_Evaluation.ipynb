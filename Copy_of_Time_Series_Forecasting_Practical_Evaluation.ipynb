{
  "cells": [
    {
      "cell_type": "markdown",
      "metadata": {
        "id": "view-in-github",
        "colab_type": "text"
      },
      "source": [
        "<a href=\"https://colab.research.google.com/github/rero2h/T5/blob/main/Copy_of_Time_Series_Forecasting_Practical_Evaluation.ipynb\" target=\"_parent\"><img src=\"https://colab.research.google.com/assets/colab-badge.svg\" alt=\"Open In Colab\"/></a>"
      ]
    },
    {
      "cell_type": "markdown",
      "id": "3e2b26be",
      "metadata": {
        "id": "3e2b26be"
      },
      "source": [
        "# Time Series Forecasting Exam\n",
        "\n",
        "In this exam, you will work on a time series forecasting task. The goal is to go through the entire workflow from loading the data to evaluating the model and making predictions. Follow each step carefully. The dataset is stored in you can access it [here](https://www.kaggle.com/datasets/khaledzsa/traffic-dataset), the target is to predict `traffic_volume` column. There is also command to download the dataset below.\n",
        "\n",
        "## Dataset: Traffic Dataset\n",
        "\n",
        "### Dataset Overview:\n",
        "\n",
        "- **Name**: Traffic Dataset\n",
        "- **Description**: This dataset contains hourly data on the traffic volume for westbound I-94, a major interstate highway in the US that connects Minneapolis and St Paul, Minnesota. The data was collected by the Minnesota Department of Transportation (MnDOT) from 2012 to 2018 at a station roughly midway between the two cities.\n",
        "- **Time Period**: Starting from 18-11-2016\n",
        "- **Frequency**: Hourly observations\n",
        "\n",
        "### Features:\n",
        "\n",
        "1. **temp:** a numeric variable that shows the average temperature in kelvin.\n",
        "2. **rain_1h:** a numeric variable that shows the amount of rain in mm that occurred in the hour.\n",
        "3. **snow_1h:** a numeric variable that shows the amount of snow in mm that occurred in the hour.\n",
        "4. **clouds_all:** a numeric variable that shows the percentage of cloud cover.\n",
        "5. **weather_main:** a categorical variable that gives a short textual description of the current weather (such as Clear, Clouds, Rain, etc.).\n",
        "6. **weather_description:** a categorical variable that gives a longer textual description of the current weather (such as light rain, overcast clouds, etc.).\n",
        "7. **date_time:** a datetime variable that shows the hour of the data collected in local CST time.\n",
        "8. **traffic_volume:** a numeric variable that shows the hourly I-94 reported westbound traffic volume.\n",
        "\n",
        "#### Feel free to add or rearrange steps as you see fit to optimize your workflow. One additional note: the model's performance doesn't need to be 100% accurate. Instead, focus on achieving the best possible results while balancing performance and generalization."
      ]
    },
    {
      "cell_type": "markdown",
      "id": "9d58f5eb",
      "metadata": {
        "id": "9d58f5eb"
      },
      "source": [
        "## Load the Data\n",
        "\n",
        "Load the time series dataset into a pandas DataFrame.\n",
        "\n",
        "**Instructions:**\n",
        "- Use `pandas` to load your dataset.\n",
        "- Display the first few rows to understand its structure.\n",
        "- Make sure the datetime column is correctly parsed."
      ]
    },
    {
      "cell_type": "code",
      "source": [
        "# Here is a helping code that will download and unzip the dataset for you.\n",
        "# Once you download the dataset you may comment the code!\n",
        "!kaggle datasets download -d khaledzsa/traffic-dataset\n",
        "!unzip traffic-dataset.zip"
      ],
      "metadata": {
        "id": "tJG6da7n3tYZ",
        "outputId": "b49b7fc3-0c15-44d5-b112-2423b4a432d8",
        "colab": {
          "base_uri": "https://localhost:8080/"
        }
      },
      "id": "tJG6da7n3tYZ",
      "execution_count": 3,
      "outputs": [
        {
          "output_type": "stream",
          "name": "stdout",
          "text": [
            "Dataset URL: https://www.kaggle.com/datasets/khaledzsa/traffic-dataset\n",
            "License(s): unknown\n",
            "Downloading traffic-dataset.zip to /content\n",
            "  0% 0.00/235k [00:00<?, ?B/s]\n",
            "100% 235k/235k [00:00<00:00, 67.3MB/s]\n",
            "Archive:  traffic-dataset.zip\n",
            "  inflating: Traffic Data.csv        \n"
          ]
        }
      ]
    },
    {
      "cell_type": "code",
      "source": [
        "import pandas as pd\n",
        "import numpy as np\n",
        "import matplotlib.pyplot as plt\n",
        "import seaborn as sns"
      ],
      "metadata": {
        "id": "jokYzCeS-3rB"
      },
      "id": "jokYzCeS-3rB",
      "execution_count": 1,
      "outputs": []
    },
    {
      "cell_type": "code",
      "source": [
        "df=pd.read_csv('/content/Traffic Data.csv',parse_dates=['date_time'], index_col=['date_time'])\n",
        "df.head()"
      ],
      "metadata": {
        "id": "H5DD8eIu-5IY",
        "outputId": "1ea87e43-ecf4-4db0-d209-2a0eb27d0b7e",
        "colab": {
          "base_uri": "https://localhost:8080/",
          "height": 237
        }
      },
      "id": "H5DD8eIu-5IY",
      "execution_count": 4,
      "outputs": [
        {
          "output_type": "execute_result",
          "data": {
            "text/plain": [
              "                     traffic_volume    temp  rain_1h  snow_1h  clouds_all  \\\n",
              "date_time                                                                   \n",
              "2017-08-27 01:00:00          1209.0  291.15      0.0      0.0          90   \n",
              "2018-09-06 23:00:00          1248.0  286.01      0.0      0.0           1   \n",
              "2017-08-25 18:00:00          4602.0  293.69      0.0      0.0          75   \n",
              "2017-11-09 22:00:00          2838.0  262.35      0.0      0.0           1   \n",
              "2017-11-09 15:00:00          5794.0  267.08      0.0      0.0           5   \n",
              "\n",
              "                    weather_main weather_description  \n",
              "date_time                                             \n",
              "2017-08-27 01:00:00         Mist                mist  \n",
              "2018-09-06 23:00:00        Clear        sky is clear  \n",
              "2017-08-25 18:00:00       Clouds       broken clouds  \n",
              "2017-11-09 22:00:00        Clear        sky is clear  \n",
              "2017-11-09 15:00:00        Clear        sky is clear  "
            ],
            "text/html": [
              "\n",
              "  <div id=\"df-fd1cb52d-ad65-43c2-9931-467bb7ea437e\" class=\"colab-df-container\">\n",
              "    <div>\n",
              "<style scoped>\n",
              "    .dataframe tbody tr th:only-of-type {\n",
              "        vertical-align: middle;\n",
              "    }\n",
              "\n",
              "    .dataframe tbody tr th {\n",
              "        vertical-align: top;\n",
              "    }\n",
              "\n",
              "    .dataframe thead th {\n",
              "        text-align: right;\n",
              "    }\n",
              "</style>\n",
              "<table border=\"1\" class=\"dataframe\">\n",
              "  <thead>\n",
              "    <tr style=\"text-align: right;\">\n",
              "      <th></th>\n",
              "      <th>traffic_volume</th>\n",
              "      <th>temp</th>\n",
              "      <th>rain_1h</th>\n",
              "      <th>snow_1h</th>\n",
              "      <th>clouds_all</th>\n",
              "      <th>weather_main</th>\n",
              "      <th>weather_description</th>\n",
              "    </tr>\n",
              "    <tr>\n",
              "      <th>date_time</th>\n",
              "      <th></th>\n",
              "      <th></th>\n",
              "      <th></th>\n",
              "      <th></th>\n",
              "      <th></th>\n",
              "      <th></th>\n",
              "      <th></th>\n",
              "    </tr>\n",
              "  </thead>\n",
              "  <tbody>\n",
              "    <tr>\n",
              "      <th>2017-08-27 01:00:00</th>\n",
              "      <td>1209.0</td>\n",
              "      <td>291.15</td>\n",
              "      <td>0.0</td>\n",
              "      <td>0.0</td>\n",
              "      <td>90</td>\n",
              "      <td>Mist</td>\n",
              "      <td>mist</td>\n",
              "    </tr>\n",
              "    <tr>\n",
              "      <th>2018-09-06 23:00:00</th>\n",
              "      <td>1248.0</td>\n",
              "      <td>286.01</td>\n",
              "      <td>0.0</td>\n",
              "      <td>0.0</td>\n",
              "      <td>1</td>\n",
              "      <td>Clear</td>\n",
              "      <td>sky is clear</td>\n",
              "    </tr>\n",
              "    <tr>\n",
              "      <th>2017-08-25 18:00:00</th>\n",
              "      <td>4602.0</td>\n",
              "      <td>293.69</td>\n",
              "      <td>0.0</td>\n",
              "      <td>0.0</td>\n",
              "      <td>75</td>\n",
              "      <td>Clouds</td>\n",
              "      <td>broken clouds</td>\n",
              "    </tr>\n",
              "    <tr>\n",
              "      <th>2017-11-09 22:00:00</th>\n",
              "      <td>2838.0</td>\n",
              "      <td>262.35</td>\n",
              "      <td>0.0</td>\n",
              "      <td>0.0</td>\n",
              "      <td>1</td>\n",
              "      <td>Clear</td>\n",
              "      <td>sky is clear</td>\n",
              "    </tr>\n",
              "    <tr>\n",
              "      <th>2017-11-09 15:00:00</th>\n",
              "      <td>5794.0</td>\n",
              "      <td>267.08</td>\n",
              "      <td>0.0</td>\n",
              "      <td>0.0</td>\n",
              "      <td>5</td>\n",
              "      <td>Clear</td>\n",
              "      <td>sky is clear</td>\n",
              "    </tr>\n",
              "  </tbody>\n",
              "</table>\n",
              "</div>\n",
              "    <div class=\"colab-df-buttons\">\n",
              "\n",
              "  <div class=\"colab-df-container\">\n",
              "    <button class=\"colab-df-convert\" onclick=\"convertToInteractive('df-fd1cb52d-ad65-43c2-9931-467bb7ea437e')\"\n",
              "            title=\"Convert this dataframe to an interactive table.\"\n",
              "            style=\"display:none;\">\n",
              "\n",
              "  <svg xmlns=\"http://www.w3.org/2000/svg\" height=\"24px\" viewBox=\"0 -960 960 960\">\n",
              "    <path d=\"M120-120v-720h720v720H120Zm60-500h600v-160H180v160Zm220 220h160v-160H400v160Zm0 220h160v-160H400v160ZM180-400h160v-160H180v160Zm440 0h160v-160H620v160ZM180-180h160v-160H180v160Zm440 0h160v-160H620v160Z\"/>\n",
              "  </svg>\n",
              "    </button>\n",
              "\n",
              "  <style>\n",
              "    .colab-df-container {\n",
              "      display:flex;\n",
              "      gap: 12px;\n",
              "    }\n",
              "\n",
              "    .colab-df-convert {\n",
              "      background-color: #E8F0FE;\n",
              "      border: none;\n",
              "      border-radius: 50%;\n",
              "      cursor: pointer;\n",
              "      display: none;\n",
              "      fill: #1967D2;\n",
              "      height: 32px;\n",
              "      padding: 0 0 0 0;\n",
              "      width: 32px;\n",
              "    }\n",
              "\n",
              "    .colab-df-convert:hover {\n",
              "      background-color: #E2EBFA;\n",
              "      box-shadow: 0px 1px 2px rgba(60, 64, 67, 0.3), 0px 1px 3px 1px rgba(60, 64, 67, 0.15);\n",
              "      fill: #174EA6;\n",
              "    }\n",
              "\n",
              "    .colab-df-buttons div {\n",
              "      margin-bottom: 4px;\n",
              "    }\n",
              "\n",
              "    [theme=dark] .colab-df-convert {\n",
              "      background-color: #3B4455;\n",
              "      fill: #D2E3FC;\n",
              "    }\n",
              "\n",
              "    [theme=dark] .colab-df-convert:hover {\n",
              "      background-color: #434B5C;\n",
              "      box-shadow: 0px 1px 3px 1px rgba(0, 0, 0, 0.15);\n",
              "      filter: drop-shadow(0px 1px 2px rgba(0, 0, 0, 0.3));\n",
              "      fill: #FFFFFF;\n",
              "    }\n",
              "  </style>\n",
              "\n",
              "    <script>\n",
              "      const buttonEl =\n",
              "        document.querySelector('#df-fd1cb52d-ad65-43c2-9931-467bb7ea437e button.colab-df-convert');\n",
              "      buttonEl.style.display =\n",
              "        google.colab.kernel.accessAllowed ? 'block' : 'none';\n",
              "\n",
              "      async function convertToInteractive(key) {\n",
              "        const element = document.querySelector('#df-fd1cb52d-ad65-43c2-9931-467bb7ea437e');\n",
              "        const dataTable =\n",
              "          await google.colab.kernel.invokeFunction('convertToInteractive',\n",
              "                                                    [key], {});\n",
              "        if (!dataTable) return;\n",
              "\n",
              "        const docLinkHtml = 'Like what you see? Visit the ' +\n",
              "          '<a target=\"_blank\" href=https://colab.research.google.com/notebooks/data_table.ipynb>data table notebook</a>'\n",
              "          + ' to learn more about interactive tables.';\n",
              "        element.innerHTML = '';\n",
              "        dataTable['output_type'] = 'display_data';\n",
              "        await google.colab.output.renderOutput(dataTable, element);\n",
              "        const docLink = document.createElement('div');\n",
              "        docLink.innerHTML = docLinkHtml;\n",
              "        element.appendChild(docLink);\n",
              "      }\n",
              "    </script>\n",
              "  </div>\n",
              "\n",
              "\n",
              "<div id=\"df-62121198-7ea5-466d-84b9-e8e7e862d739\">\n",
              "  <button class=\"colab-df-quickchart\" onclick=\"quickchart('df-62121198-7ea5-466d-84b9-e8e7e862d739')\"\n",
              "            title=\"Suggest charts\"\n",
              "            style=\"display:none;\">\n",
              "\n",
              "<svg xmlns=\"http://www.w3.org/2000/svg\" height=\"24px\"viewBox=\"0 0 24 24\"\n",
              "     width=\"24px\">\n",
              "    <g>\n",
              "        <path d=\"M19 3H5c-1.1 0-2 .9-2 2v14c0 1.1.9 2 2 2h14c1.1 0 2-.9 2-2V5c0-1.1-.9-2-2-2zM9 17H7v-7h2v7zm4 0h-2V7h2v10zm4 0h-2v-4h2v4z\"/>\n",
              "    </g>\n",
              "</svg>\n",
              "  </button>\n",
              "\n",
              "<style>\n",
              "  .colab-df-quickchart {\n",
              "      --bg-color: #E8F0FE;\n",
              "      --fill-color: #1967D2;\n",
              "      --hover-bg-color: #E2EBFA;\n",
              "      --hover-fill-color: #174EA6;\n",
              "      --disabled-fill-color: #AAA;\n",
              "      --disabled-bg-color: #DDD;\n",
              "  }\n",
              "\n",
              "  [theme=dark] .colab-df-quickchart {\n",
              "      --bg-color: #3B4455;\n",
              "      --fill-color: #D2E3FC;\n",
              "      --hover-bg-color: #434B5C;\n",
              "      --hover-fill-color: #FFFFFF;\n",
              "      --disabled-bg-color: #3B4455;\n",
              "      --disabled-fill-color: #666;\n",
              "  }\n",
              "\n",
              "  .colab-df-quickchart {\n",
              "    background-color: var(--bg-color);\n",
              "    border: none;\n",
              "    border-radius: 50%;\n",
              "    cursor: pointer;\n",
              "    display: none;\n",
              "    fill: var(--fill-color);\n",
              "    height: 32px;\n",
              "    padding: 0;\n",
              "    width: 32px;\n",
              "  }\n",
              "\n",
              "  .colab-df-quickchart:hover {\n",
              "    background-color: var(--hover-bg-color);\n",
              "    box-shadow: 0 1px 2px rgba(60, 64, 67, 0.3), 0 1px 3px 1px rgba(60, 64, 67, 0.15);\n",
              "    fill: var(--button-hover-fill-color);\n",
              "  }\n",
              "\n",
              "  .colab-df-quickchart-complete:disabled,\n",
              "  .colab-df-quickchart-complete:disabled:hover {\n",
              "    background-color: var(--disabled-bg-color);\n",
              "    fill: var(--disabled-fill-color);\n",
              "    box-shadow: none;\n",
              "  }\n",
              "\n",
              "  .colab-df-spinner {\n",
              "    border: 2px solid var(--fill-color);\n",
              "    border-color: transparent;\n",
              "    border-bottom-color: var(--fill-color);\n",
              "    animation:\n",
              "      spin 1s steps(1) infinite;\n",
              "  }\n",
              "\n",
              "  @keyframes spin {\n",
              "    0% {\n",
              "      border-color: transparent;\n",
              "      border-bottom-color: var(--fill-color);\n",
              "      border-left-color: var(--fill-color);\n",
              "    }\n",
              "    20% {\n",
              "      border-color: transparent;\n",
              "      border-left-color: var(--fill-color);\n",
              "      border-top-color: var(--fill-color);\n",
              "    }\n",
              "    30% {\n",
              "      border-color: transparent;\n",
              "      border-left-color: var(--fill-color);\n",
              "      border-top-color: var(--fill-color);\n",
              "      border-right-color: var(--fill-color);\n",
              "    }\n",
              "    40% {\n",
              "      border-color: transparent;\n",
              "      border-right-color: var(--fill-color);\n",
              "      border-top-color: var(--fill-color);\n",
              "    }\n",
              "    60% {\n",
              "      border-color: transparent;\n",
              "      border-right-color: var(--fill-color);\n",
              "    }\n",
              "    80% {\n",
              "      border-color: transparent;\n",
              "      border-right-color: var(--fill-color);\n",
              "      border-bottom-color: var(--fill-color);\n",
              "    }\n",
              "    90% {\n",
              "      border-color: transparent;\n",
              "      border-bottom-color: var(--fill-color);\n",
              "    }\n",
              "  }\n",
              "</style>\n",
              "\n",
              "  <script>\n",
              "    async function quickchart(key) {\n",
              "      const quickchartButtonEl =\n",
              "        document.querySelector('#' + key + ' button');\n",
              "      quickchartButtonEl.disabled = true;  // To prevent multiple clicks.\n",
              "      quickchartButtonEl.classList.add('colab-df-spinner');\n",
              "      try {\n",
              "        const charts = await google.colab.kernel.invokeFunction(\n",
              "            'suggestCharts', [key], {});\n",
              "      } catch (error) {\n",
              "        console.error('Error during call to suggestCharts:', error);\n",
              "      }\n",
              "      quickchartButtonEl.classList.remove('colab-df-spinner');\n",
              "      quickchartButtonEl.classList.add('colab-df-quickchart-complete');\n",
              "    }\n",
              "    (() => {\n",
              "      let quickchartButtonEl =\n",
              "        document.querySelector('#df-62121198-7ea5-466d-84b9-e8e7e862d739 button');\n",
              "      quickchartButtonEl.style.display =\n",
              "        google.colab.kernel.accessAllowed ? 'block' : 'none';\n",
              "    })();\n",
              "  </script>\n",
              "</div>\n",
              "\n",
              "    </div>\n",
              "  </div>\n"
            ],
            "application/vnd.google.colaboratory.intrinsic+json": {
              "type": "dataframe",
              "variable_name": "df",
              "summary": "{\n  \"name\": \"df\",\n  \"rows\": 20000,\n  \"fields\": [\n    {\n      \"column\": \"date_time\",\n      \"properties\": {\n        \"dtype\": \"date\",\n        \"min\": \"2016-11-18 15:00:00\",\n        \"max\": \"2018-09-30 23:00:00\",\n        \"num_unique_values\": 16269,\n        \"samples\": [\n          \"2016-12-24 10:00:00\",\n          \"2017-06-16 05:00:00\",\n          \"2017-09-16 20:00:00\"\n        ],\n        \"semantic_type\": \"\",\n        \"description\": \"\"\n      }\n    },\n    {\n      \"column\": \"traffic_volume\",\n      \"properties\": {\n        \"dtype\": \"number\",\n        \"std\": 1977.1713566381657,\n        \"min\": 113.0,\n        \"max\": 16781.0,\n        \"num_unique_values\": 5754,\n        \"samples\": [\n          2816.0,\n          6722.0,\n          3569.0\n        ],\n        \"semantic_type\": \"\",\n        \"description\": \"\"\n      }\n    },\n    {\n      \"column\": \"temp\",\n      \"properties\": {\n        \"dtype\": \"number\",\n        \"std\": 12.6612879499204,\n        \"min\": 243.39,\n        \"max\": 310.07,\n        \"num_unique_values\": 3901,\n        \"samples\": [\n          286.45,\n          262.46,\n          260.76\n        ],\n        \"semantic_type\": \"\",\n        \"description\": \"\"\n      }\n    },\n    {\n      \"column\": \"rain_1h\",\n      \"properties\": {\n        \"dtype\": \"number\",\n        \"std\": 0.39800673492769245,\n        \"min\": 0.0,\n        \"max\": 10.6,\n        \"num_unique_values\": 87,\n        \"samples\": [\n          5.62,\n          0.0,\n          0.76\n        ],\n        \"semantic_type\": \"\",\n        \"description\": \"\"\n      }\n    },\n    {\n      \"column\": \"snow_1h\",\n      \"properties\": {\n        \"dtype\": \"number\",\n        \"std\": 0.0,\n        \"min\": 0.0,\n        \"max\": 0.0,\n        \"num_unique_values\": 1,\n        \"samples\": [\n          0.0\n        ],\n        \"semantic_type\": \"\",\n        \"description\": \"\"\n      }\n    },\n    {\n      \"column\": \"clouds_all\",\n      \"properties\": {\n        \"dtype\": \"number\",\n        \"std\": 39,\n        \"min\": 0,\n        \"max\": 92,\n        \"num_unique_values\": 21,\n        \"samples\": [\n          90\n        ],\n        \"semantic_type\": \"\",\n        \"description\": \"\"\n      }\n    },\n    {\n      \"column\": \"weather_main\",\n      \"properties\": {\n        \"dtype\": \"category\",\n        \"num_unique_values\": 10,\n        \"samples\": [\n          \"Haze\"\n        ],\n        \"semantic_type\": \"\",\n        \"description\": \"\"\n      }\n    },\n    {\n      \"column\": \"weather_description\",\n      \"properties\": {\n        \"dtype\": \"category\",\n        \"num_unique_values\": 34,\n        \"samples\": [\n          \"heavy intensity rain\"\n        ],\n        \"semantic_type\": \"\",\n        \"description\": \"\"\n      }\n    }\n  ]\n}"
            }
          },
          "metadata": {},
          "execution_count": 4
        }
      ]
    },
    {
      "cell_type": "markdown",
      "id": "c3122466",
      "metadata": {
        "id": "c3122466"
      },
      "source": [
        "## Exploratory Data Analysis (EDA)\n",
        "\n",
        "Perform exploratory data analysis on the dataset.\n",
        "\n",
        "**Instructions:**\n",
        "- Plot the time series data.\n",
        "- Analyze trends, seasonality, and potential outliers.\n",
        "- Plot boxplots or scatter plots to identify any outliers or anomalies in the data.\n",
        "- Seasonal Decomposition: Use `seasonal_decompose` from the `statsmodels` library to break down the time series data into trend, seasonality, and residual components. Analyze each component to gain insights into the long-term movement (trend), regular patterns (seasonality), and remaining fluctuations (residuals).\n",
        "\n",
        "Do more if needed!"
      ]
    },
    {
      "cell_type": "code",
      "source": [
        "df.info()"
      ],
      "metadata": {
        "id": "e8f35PebAArw",
        "outputId": "5adb8a99-831b-49b7-f447-beeda9923a5e",
        "colab": {
          "base_uri": "https://localhost:8080/"
        }
      },
      "id": "e8f35PebAArw",
      "execution_count": null,
      "outputs": [
        {
          "output_type": "stream",
          "name": "stdout",
          "text": [
            "<class 'pandas.core.frame.DataFrame'>\n",
            "DatetimeIndex: 20000 entries, 2017-08-27 01:00:00 to 2018-05-31 18:00:00\n",
            "Data columns (total 7 columns):\n",
            " #   Column               Non-Null Count  Dtype  \n",
            "---  ------               --------------  -----  \n",
            " 0   traffic_volume       19980 non-null  float64\n",
            " 1   temp                 20000 non-null  float64\n",
            " 2   rain_1h              20000 non-null  float64\n",
            " 3   snow_1h              20000 non-null  float64\n",
            " 4   clouds_all           20000 non-null  int64  \n",
            " 5   weather_main         20000 non-null  object \n",
            " 6   weather_description  20000 non-null  object \n",
            "dtypes: float64(4), int64(1), object(2)\n",
            "memory usage: 1.2+ MB\n"
          ]
        }
      ]
    },
    {
      "cell_type": "code",
      "source": [
        "df.shape"
      ],
      "metadata": {
        "id": "k9_V4Y-qADuj",
        "outputId": "43c22580-3401-4f24-b028-1d90d163d0c2",
        "colab": {
          "base_uri": "https://localhost:8080/"
        }
      },
      "id": "k9_V4Y-qADuj",
      "execution_count": null,
      "outputs": [
        {
          "output_type": "execute_result",
          "data": {
            "text/plain": [
              "(20000, 7)"
            ]
          },
          "metadata": {},
          "execution_count": 4
        }
      ]
    },
    {
      "cell_type": "code",
      "source": [
        "df.tail()"
      ],
      "metadata": {
        "id": "2F6tHl0-APNY",
        "outputId": "0a50eb82-7d00-40d8-fcb0-ad4e05cc5a20",
        "colab": {
          "base_uri": "https://localhost:8080/",
          "height": 237
        }
      },
      "id": "2F6tHl0-APNY",
      "execution_count": null,
      "outputs": [
        {
          "output_type": "execute_result",
          "data": {
            "text/plain": [
              "                     traffic_volume    temp  rain_1h  snow_1h  clouds_all  \\\n",
              "date_time                                                                   \n",
              "2018-06-06 21:00:00          2723.0  296.42      0.0      0.0          40   \n",
              "2017-10-25 15:00:00          5895.0  285.58      0.0      0.0          40   \n",
              "2018-03-28 23:00:00          1132.0  275.30      0.0      0.0           1   \n",
              "2018-02-12 15:00:00          5525.0  260.94      0.0      0.0          75   \n",
              "2018-05-31 18:00:00          5042.0  301.65      0.0      0.0          40   \n",
              "\n",
              "                    weather_main weather_description  \n",
              "date_time                                             \n",
              "2018-06-06 21:00:00       Clouds    scattered clouds  \n",
              "2017-10-25 15:00:00       Clouds    scattered clouds  \n",
              "2018-03-28 23:00:00        Clear        sky is clear  \n",
              "2018-02-12 15:00:00       Clouds       broken clouds  \n",
              "2018-05-31 18:00:00       Clouds    scattered clouds  "
            ],
            "text/html": [
              "\n",
              "  <div id=\"df-7914b3dc-bcce-47d7-936e-922817fe4d44\" class=\"colab-df-container\">\n",
              "    <div>\n",
              "<style scoped>\n",
              "    .dataframe tbody tr th:only-of-type {\n",
              "        vertical-align: middle;\n",
              "    }\n",
              "\n",
              "    .dataframe tbody tr th {\n",
              "        vertical-align: top;\n",
              "    }\n",
              "\n",
              "    .dataframe thead th {\n",
              "        text-align: right;\n",
              "    }\n",
              "</style>\n",
              "<table border=\"1\" class=\"dataframe\">\n",
              "  <thead>\n",
              "    <tr style=\"text-align: right;\">\n",
              "      <th></th>\n",
              "      <th>traffic_volume</th>\n",
              "      <th>temp</th>\n",
              "      <th>rain_1h</th>\n",
              "      <th>snow_1h</th>\n",
              "      <th>clouds_all</th>\n",
              "      <th>weather_main</th>\n",
              "      <th>weather_description</th>\n",
              "    </tr>\n",
              "    <tr>\n",
              "      <th>date_time</th>\n",
              "      <th></th>\n",
              "      <th></th>\n",
              "      <th></th>\n",
              "      <th></th>\n",
              "      <th></th>\n",
              "      <th></th>\n",
              "      <th></th>\n",
              "    </tr>\n",
              "  </thead>\n",
              "  <tbody>\n",
              "    <tr>\n",
              "      <th>2018-06-06 21:00:00</th>\n",
              "      <td>2723.0</td>\n",
              "      <td>296.42</td>\n",
              "      <td>0.0</td>\n",
              "      <td>0.0</td>\n",
              "      <td>40</td>\n",
              "      <td>Clouds</td>\n",
              "      <td>scattered clouds</td>\n",
              "    </tr>\n",
              "    <tr>\n",
              "      <th>2017-10-25 15:00:00</th>\n",
              "      <td>5895.0</td>\n",
              "      <td>285.58</td>\n",
              "      <td>0.0</td>\n",
              "      <td>0.0</td>\n",
              "      <td>40</td>\n",
              "      <td>Clouds</td>\n",
              "      <td>scattered clouds</td>\n",
              "    </tr>\n",
              "    <tr>\n",
              "      <th>2018-03-28 23:00:00</th>\n",
              "      <td>1132.0</td>\n",
              "      <td>275.30</td>\n",
              "      <td>0.0</td>\n",
              "      <td>0.0</td>\n",
              "      <td>1</td>\n",
              "      <td>Clear</td>\n",
              "      <td>sky is clear</td>\n",
              "    </tr>\n",
              "    <tr>\n",
              "      <th>2018-02-12 15:00:00</th>\n",
              "      <td>5525.0</td>\n",
              "      <td>260.94</td>\n",
              "      <td>0.0</td>\n",
              "      <td>0.0</td>\n",
              "      <td>75</td>\n",
              "      <td>Clouds</td>\n",
              "      <td>broken clouds</td>\n",
              "    </tr>\n",
              "    <tr>\n",
              "      <th>2018-05-31 18:00:00</th>\n",
              "      <td>5042.0</td>\n",
              "      <td>301.65</td>\n",
              "      <td>0.0</td>\n",
              "      <td>0.0</td>\n",
              "      <td>40</td>\n",
              "      <td>Clouds</td>\n",
              "      <td>scattered clouds</td>\n",
              "    </tr>\n",
              "  </tbody>\n",
              "</table>\n",
              "</div>\n",
              "    <div class=\"colab-df-buttons\">\n",
              "\n",
              "  <div class=\"colab-df-container\">\n",
              "    <button class=\"colab-df-convert\" onclick=\"convertToInteractive('df-7914b3dc-bcce-47d7-936e-922817fe4d44')\"\n",
              "            title=\"Convert this dataframe to an interactive table.\"\n",
              "            style=\"display:none;\">\n",
              "\n",
              "  <svg xmlns=\"http://www.w3.org/2000/svg\" height=\"24px\" viewBox=\"0 -960 960 960\">\n",
              "    <path d=\"M120-120v-720h720v720H120Zm60-500h600v-160H180v160Zm220 220h160v-160H400v160Zm0 220h160v-160H400v160ZM180-400h160v-160H180v160Zm440 0h160v-160H620v160ZM180-180h160v-160H180v160Zm440 0h160v-160H620v160Z\"/>\n",
              "  </svg>\n",
              "    </button>\n",
              "\n",
              "  <style>\n",
              "    .colab-df-container {\n",
              "      display:flex;\n",
              "      gap: 12px;\n",
              "    }\n",
              "\n",
              "    .colab-df-convert {\n",
              "      background-color: #E8F0FE;\n",
              "      border: none;\n",
              "      border-radius: 50%;\n",
              "      cursor: pointer;\n",
              "      display: none;\n",
              "      fill: #1967D2;\n",
              "      height: 32px;\n",
              "      padding: 0 0 0 0;\n",
              "      width: 32px;\n",
              "    }\n",
              "\n",
              "    .colab-df-convert:hover {\n",
              "      background-color: #E2EBFA;\n",
              "      box-shadow: 0px 1px 2px rgba(60, 64, 67, 0.3), 0px 1px 3px 1px rgba(60, 64, 67, 0.15);\n",
              "      fill: #174EA6;\n",
              "    }\n",
              "\n",
              "    .colab-df-buttons div {\n",
              "      margin-bottom: 4px;\n",
              "    }\n",
              "\n",
              "    [theme=dark] .colab-df-convert {\n",
              "      background-color: #3B4455;\n",
              "      fill: #D2E3FC;\n",
              "    }\n",
              "\n",
              "    [theme=dark] .colab-df-convert:hover {\n",
              "      background-color: #434B5C;\n",
              "      box-shadow: 0px 1px 3px 1px rgba(0, 0, 0, 0.15);\n",
              "      filter: drop-shadow(0px 1px 2px rgba(0, 0, 0, 0.3));\n",
              "      fill: #FFFFFF;\n",
              "    }\n",
              "  </style>\n",
              "\n",
              "    <script>\n",
              "      const buttonEl =\n",
              "        document.querySelector('#df-7914b3dc-bcce-47d7-936e-922817fe4d44 button.colab-df-convert');\n",
              "      buttonEl.style.display =\n",
              "        google.colab.kernel.accessAllowed ? 'block' : 'none';\n",
              "\n",
              "      async function convertToInteractive(key) {\n",
              "        const element = document.querySelector('#df-7914b3dc-bcce-47d7-936e-922817fe4d44');\n",
              "        const dataTable =\n",
              "          await google.colab.kernel.invokeFunction('convertToInteractive',\n",
              "                                                    [key], {});\n",
              "        if (!dataTable) return;\n",
              "\n",
              "        const docLinkHtml = 'Like what you see? Visit the ' +\n",
              "          '<a target=\"_blank\" href=https://colab.research.google.com/notebooks/data_table.ipynb>data table notebook</a>'\n",
              "          + ' to learn more about interactive tables.';\n",
              "        element.innerHTML = '';\n",
              "        dataTable['output_type'] = 'display_data';\n",
              "        await google.colab.output.renderOutput(dataTable, element);\n",
              "        const docLink = document.createElement('div');\n",
              "        docLink.innerHTML = docLinkHtml;\n",
              "        element.appendChild(docLink);\n",
              "      }\n",
              "    </script>\n",
              "  </div>\n",
              "\n",
              "\n",
              "<div id=\"df-b75f8964-80b0-453a-a157-5f1b65ea950f\">\n",
              "  <button class=\"colab-df-quickchart\" onclick=\"quickchart('df-b75f8964-80b0-453a-a157-5f1b65ea950f')\"\n",
              "            title=\"Suggest charts\"\n",
              "            style=\"display:none;\">\n",
              "\n",
              "<svg xmlns=\"http://www.w3.org/2000/svg\" height=\"24px\"viewBox=\"0 0 24 24\"\n",
              "     width=\"24px\">\n",
              "    <g>\n",
              "        <path d=\"M19 3H5c-1.1 0-2 .9-2 2v14c0 1.1.9 2 2 2h14c1.1 0 2-.9 2-2V5c0-1.1-.9-2-2-2zM9 17H7v-7h2v7zm4 0h-2V7h2v10zm4 0h-2v-4h2v4z\"/>\n",
              "    </g>\n",
              "</svg>\n",
              "  </button>\n",
              "\n",
              "<style>\n",
              "  .colab-df-quickchart {\n",
              "      --bg-color: #E8F0FE;\n",
              "      --fill-color: #1967D2;\n",
              "      --hover-bg-color: #E2EBFA;\n",
              "      --hover-fill-color: #174EA6;\n",
              "      --disabled-fill-color: #AAA;\n",
              "      --disabled-bg-color: #DDD;\n",
              "  }\n",
              "\n",
              "  [theme=dark] .colab-df-quickchart {\n",
              "      --bg-color: #3B4455;\n",
              "      --fill-color: #D2E3FC;\n",
              "      --hover-bg-color: #434B5C;\n",
              "      --hover-fill-color: #FFFFFF;\n",
              "      --disabled-bg-color: #3B4455;\n",
              "      --disabled-fill-color: #666;\n",
              "  }\n",
              "\n",
              "  .colab-df-quickchart {\n",
              "    background-color: var(--bg-color);\n",
              "    border: none;\n",
              "    border-radius: 50%;\n",
              "    cursor: pointer;\n",
              "    display: none;\n",
              "    fill: var(--fill-color);\n",
              "    height: 32px;\n",
              "    padding: 0;\n",
              "    width: 32px;\n",
              "  }\n",
              "\n",
              "  .colab-df-quickchart:hover {\n",
              "    background-color: var(--hover-bg-color);\n",
              "    box-shadow: 0 1px 2px rgba(60, 64, 67, 0.3), 0 1px 3px 1px rgba(60, 64, 67, 0.15);\n",
              "    fill: var(--button-hover-fill-color);\n",
              "  }\n",
              "\n",
              "  .colab-df-quickchart-complete:disabled,\n",
              "  .colab-df-quickchart-complete:disabled:hover {\n",
              "    background-color: var(--disabled-bg-color);\n",
              "    fill: var(--disabled-fill-color);\n",
              "    box-shadow: none;\n",
              "  }\n",
              "\n",
              "  .colab-df-spinner {\n",
              "    border: 2px solid var(--fill-color);\n",
              "    border-color: transparent;\n",
              "    border-bottom-color: var(--fill-color);\n",
              "    animation:\n",
              "      spin 1s steps(1) infinite;\n",
              "  }\n",
              "\n",
              "  @keyframes spin {\n",
              "    0% {\n",
              "      border-color: transparent;\n",
              "      border-bottom-color: var(--fill-color);\n",
              "      border-left-color: var(--fill-color);\n",
              "    }\n",
              "    20% {\n",
              "      border-color: transparent;\n",
              "      border-left-color: var(--fill-color);\n",
              "      border-top-color: var(--fill-color);\n",
              "    }\n",
              "    30% {\n",
              "      border-color: transparent;\n",
              "      border-left-color: var(--fill-color);\n",
              "      border-top-color: var(--fill-color);\n",
              "      border-right-color: var(--fill-color);\n",
              "    }\n",
              "    40% {\n",
              "      border-color: transparent;\n",
              "      border-right-color: var(--fill-color);\n",
              "      border-top-color: var(--fill-color);\n",
              "    }\n",
              "    60% {\n",
              "      border-color: transparent;\n",
              "      border-right-color: var(--fill-color);\n",
              "    }\n",
              "    80% {\n",
              "      border-color: transparent;\n",
              "      border-right-color: var(--fill-color);\n",
              "      border-bottom-color: var(--fill-color);\n",
              "    }\n",
              "    90% {\n",
              "      border-color: transparent;\n",
              "      border-bottom-color: var(--fill-color);\n",
              "    }\n",
              "  }\n",
              "</style>\n",
              "\n",
              "  <script>\n",
              "    async function quickchart(key) {\n",
              "      const quickchartButtonEl =\n",
              "        document.querySelector('#' + key + ' button');\n",
              "      quickchartButtonEl.disabled = true;  // To prevent multiple clicks.\n",
              "      quickchartButtonEl.classList.add('colab-df-spinner');\n",
              "      try {\n",
              "        const charts = await google.colab.kernel.invokeFunction(\n",
              "            'suggestCharts', [key], {});\n",
              "      } catch (error) {\n",
              "        console.error('Error during call to suggestCharts:', error);\n",
              "      }\n",
              "      quickchartButtonEl.classList.remove('colab-df-spinner');\n",
              "      quickchartButtonEl.classList.add('colab-df-quickchart-complete');\n",
              "    }\n",
              "    (() => {\n",
              "      let quickchartButtonEl =\n",
              "        document.querySelector('#df-b75f8964-80b0-453a-a157-5f1b65ea950f button');\n",
              "      quickchartButtonEl.style.display =\n",
              "        google.colab.kernel.accessAllowed ? 'block' : 'none';\n",
              "    })();\n",
              "  </script>\n",
              "</div>\n",
              "\n",
              "    </div>\n",
              "  </div>\n"
            ],
            "application/vnd.google.colaboratory.intrinsic+json": {
              "type": "dataframe",
              "summary": "{\n  \"name\": \"df\",\n  \"rows\": 5,\n  \"fields\": [\n    {\n      \"column\": \"date_time\",\n      \"properties\": {\n        \"dtype\": \"date\",\n        \"min\": \"2017-10-25 15:00:00\",\n        \"max\": \"2018-06-06 21:00:00\",\n        \"num_unique_values\": 5,\n        \"samples\": [\n          \"2017-10-25 15:00:00\",\n          \"2018-05-31 18:00:00\",\n          \"2018-03-28 23:00:00\"\n        ],\n        \"semantic_type\": \"\",\n        \"description\": \"\"\n      }\n    },\n    {\n      \"column\": \"traffic_volume\",\n      \"properties\": {\n        \"dtype\": \"number\",\n        \"std\": 2051.7351924651484,\n        \"min\": 1132.0,\n        \"max\": 5895.0,\n        \"num_unique_values\": 5,\n        \"samples\": [\n          5895.0,\n          5042.0,\n          1132.0\n        ],\n        \"semantic_type\": \"\",\n        \"description\": \"\"\n      }\n    },\n    {\n      \"column\": \"temp\",\n      \"properties\": {\n        \"dtype\": \"number\",\n        \"std\": 16.399134733271747,\n        \"min\": 260.94,\n        \"max\": 301.65,\n        \"num_unique_values\": 5,\n        \"samples\": [\n          285.58,\n          301.65,\n          275.3\n        ],\n        \"semantic_type\": \"\",\n        \"description\": \"\"\n      }\n    },\n    {\n      \"column\": \"rain_1h\",\n      \"properties\": {\n        \"dtype\": \"number\",\n        \"std\": 0.0,\n        \"min\": 0.0,\n        \"max\": 0.0,\n        \"num_unique_values\": 1,\n        \"samples\": [\n          0.0\n        ],\n        \"semantic_type\": \"\",\n        \"description\": \"\"\n      }\n    },\n    {\n      \"column\": \"snow_1h\",\n      \"properties\": {\n        \"dtype\": \"number\",\n        \"std\": 0.0,\n        \"min\": 0.0,\n        \"max\": 0.0,\n        \"num_unique_values\": 1,\n        \"samples\": [\n          0.0\n        ],\n        \"semantic_type\": \"\",\n        \"description\": \"\"\n      }\n    },\n    {\n      \"column\": \"clouds_all\",\n      \"properties\": {\n        \"dtype\": \"number\",\n        \"std\": 26,\n        \"min\": 1,\n        \"max\": 75,\n        \"num_unique_values\": 3,\n        \"samples\": [\n          40\n        ],\n        \"semantic_type\": \"\",\n        \"description\": \"\"\n      }\n    },\n    {\n      \"column\": \"weather_main\",\n      \"properties\": {\n        \"dtype\": \"category\",\n        \"num_unique_values\": 2,\n        \"samples\": [\n          \"Clear\"\n        ],\n        \"semantic_type\": \"\",\n        \"description\": \"\"\n      }\n    },\n    {\n      \"column\": \"weather_description\",\n      \"properties\": {\n        \"dtype\": \"string\",\n        \"num_unique_values\": 3,\n        \"samples\": [\n          \"scattered clouds\"\n        ],\n        \"semantic_type\": \"\",\n        \"description\": \"\"\n      }\n    }\n  ]\n}"
            }
          },
          "metadata": {},
          "execution_count": 5
        }
      ]
    },
    {
      "cell_type": "code",
      "source": [
        "df.sample(5)"
      ],
      "metadata": {
        "id": "C1LeAEcZARkH",
        "outputId": "781c01e2-9ff5-4d72-a1ab-8bb90f4b64ff",
        "colab": {
          "base_uri": "https://localhost:8080/",
          "height": 237
        }
      },
      "id": "C1LeAEcZARkH",
      "execution_count": null,
      "outputs": [
        {
          "output_type": "execute_result",
          "data": {
            "text/plain": [
              "                     traffic_volume    temp  rain_1h  snow_1h  clouds_all  \\\n",
              "date_time                                                                   \n",
              "2017-07-13 20:00:00          3127.0  291.02      0.0      0.0          90   \n",
              "2016-11-25 07:00:00          1396.0  274.08      0.0      0.0          90   \n",
              "2018-03-13 10:00:00          4410.0  269.21      0.0      0.0          20   \n",
              "2017-11-27 16:00:00          6674.0  287.86      0.0      0.0          75   \n",
              "2018-02-09 15:00:00          5861.0  261.08      0.0      0.0          20   \n",
              "\n",
              "                    weather_main weather_description  \n",
              "date_time                                             \n",
              "2017-07-13 20:00:00       Clouds     overcast clouds  \n",
              "2016-11-25 07:00:00         Mist                mist  \n",
              "2018-03-13 10:00:00       Clouds          few clouds  \n",
              "2017-11-27 16:00:00       Clouds       broken clouds  \n",
              "2018-02-09 15:00:00       Clouds          few clouds  "
            ],
            "text/html": [
              "\n",
              "  <div id=\"df-dd225942-9964-4da8-a2ea-bcc0f37f8ffe\" class=\"colab-df-container\">\n",
              "    <div>\n",
              "<style scoped>\n",
              "    .dataframe tbody tr th:only-of-type {\n",
              "        vertical-align: middle;\n",
              "    }\n",
              "\n",
              "    .dataframe tbody tr th {\n",
              "        vertical-align: top;\n",
              "    }\n",
              "\n",
              "    .dataframe thead th {\n",
              "        text-align: right;\n",
              "    }\n",
              "</style>\n",
              "<table border=\"1\" class=\"dataframe\">\n",
              "  <thead>\n",
              "    <tr style=\"text-align: right;\">\n",
              "      <th></th>\n",
              "      <th>traffic_volume</th>\n",
              "      <th>temp</th>\n",
              "      <th>rain_1h</th>\n",
              "      <th>snow_1h</th>\n",
              "      <th>clouds_all</th>\n",
              "      <th>weather_main</th>\n",
              "      <th>weather_description</th>\n",
              "    </tr>\n",
              "    <tr>\n",
              "      <th>date_time</th>\n",
              "      <th></th>\n",
              "      <th></th>\n",
              "      <th></th>\n",
              "      <th></th>\n",
              "      <th></th>\n",
              "      <th></th>\n",
              "      <th></th>\n",
              "    </tr>\n",
              "  </thead>\n",
              "  <tbody>\n",
              "    <tr>\n",
              "      <th>2017-07-13 20:00:00</th>\n",
              "      <td>3127.0</td>\n",
              "      <td>291.02</td>\n",
              "      <td>0.0</td>\n",
              "      <td>0.0</td>\n",
              "      <td>90</td>\n",
              "      <td>Clouds</td>\n",
              "      <td>overcast clouds</td>\n",
              "    </tr>\n",
              "    <tr>\n",
              "      <th>2016-11-25 07:00:00</th>\n",
              "      <td>1396.0</td>\n",
              "      <td>274.08</td>\n",
              "      <td>0.0</td>\n",
              "      <td>0.0</td>\n",
              "      <td>90</td>\n",
              "      <td>Mist</td>\n",
              "      <td>mist</td>\n",
              "    </tr>\n",
              "    <tr>\n",
              "      <th>2018-03-13 10:00:00</th>\n",
              "      <td>4410.0</td>\n",
              "      <td>269.21</td>\n",
              "      <td>0.0</td>\n",
              "      <td>0.0</td>\n",
              "      <td>20</td>\n",
              "      <td>Clouds</td>\n",
              "      <td>few clouds</td>\n",
              "    </tr>\n",
              "    <tr>\n",
              "      <th>2017-11-27 16:00:00</th>\n",
              "      <td>6674.0</td>\n",
              "      <td>287.86</td>\n",
              "      <td>0.0</td>\n",
              "      <td>0.0</td>\n",
              "      <td>75</td>\n",
              "      <td>Clouds</td>\n",
              "      <td>broken clouds</td>\n",
              "    </tr>\n",
              "    <tr>\n",
              "      <th>2018-02-09 15:00:00</th>\n",
              "      <td>5861.0</td>\n",
              "      <td>261.08</td>\n",
              "      <td>0.0</td>\n",
              "      <td>0.0</td>\n",
              "      <td>20</td>\n",
              "      <td>Clouds</td>\n",
              "      <td>few clouds</td>\n",
              "    </tr>\n",
              "  </tbody>\n",
              "</table>\n",
              "</div>\n",
              "    <div class=\"colab-df-buttons\">\n",
              "\n",
              "  <div class=\"colab-df-container\">\n",
              "    <button class=\"colab-df-convert\" onclick=\"convertToInteractive('df-dd225942-9964-4da8-a2ea-bcc0f37f8ffe')\"\n",
              "            title=\"Convert this dataframe to an interactive table.\"\n",
              "            style=\"display:none;\">\n",
              "\n",
              "  <svg xmlns=\"http://www.w3.org/2000/svg\" height=\"24px\" viewBox=\"0 -960 960 960\">\n",
              "    <path d=\"M120-120v-720h720v720H120Zm60-500h600v-160H180v160Zm220 220h160v-160H400v160Zm0 220h160v-160H400v160ZM180-400h160v-160H180v160Zm440 0h160v-160H620v160ZM180-180h160v-160H180v160Zm440 0h160v-160H620v160Z\"/>\n",
              "  </svg>\n",
              "    </button>\n",
              "\n",
              "  <style>\n",
              "    .colab-df-container {\n",
              "      display:flex;\n",
              "      gap: 12px;\n",
              "    }\n",
              "\n",
              "    .colab-df-convert {\n",
              "      background-color: #E8F0FE;\n",
              "      border: none;\n",
              "      border-radius: 50%;\n",
              "      cursor: pointer;\n",
              "      display: none;\n",
              "      fill: #1967D2;\n",
              "      height: 32px;\n",
              "      padding: 0 0 0 0;\n",
              "      width: 32px;\n",
              "    }\n",
              "\n",
              "    .colab-df-convert:hover {\n",
              "      background-color: #E2EBFA;\n",
              "      box-shadow: 0px 1px 2px rgba(60, 64, 67, 0.3), 0px 1px 3px 1px rgba(60, 64, 67, 0.15);\n",
              "      fill: #174EA6;\n",
              "    }\n",
              "\n",
              "    .colab-df-buttons div {\n",
              "      margin-bottom: 4px;\n",
              "    }\n",
              "\n",
              "    [theme=dark] .colab-df-convert {\n",
              "      background-color: #3B4455;\n",
              "      fill: #D2E3FC;\n",
              "    }\n",
              "\n",
              "    [theme=dark] .colab-df-convert:hover {\n",
              "      background-color: #434B5C;\n",
              "      box-shadow: 0px 1px 3px 1px rgba(0, 0, 0, 0.15);\n",
              "      filter: drop-shadow(0px 1px 2px rgba(0, 0, 0, 0.3));\n",
              "      fill: #FFFFFF;\n",
              "    }\n",
              "  </style>\n",
              "\n",
              "    <script>\n",
              "      const buttonEl =\n",
              "        document.querySelector('#df-dd225942-9964-4da8-a2ea-bcc0f37f8ffe button.colab-df-convert');\n",
              "      buttonEl.style.display =\n",
              "        google.colab.kernel.accessAllowed ? 'block' : 'none';\n",
              "\n",
              "      async function convertToInteractive(key) {\n",
              "        const element = document.querySelector('#df-dd225942-9964-4da8-a2ea-bcc0f37f8ffe');\n",
              "        const dataTable =\n",
              "          await google.colab.kernel.invokeFunction('convertToInteractive',\n",
              "                                                    [key], {});\n",
              "        if (!dataTable) return;\n",
              "\n",
              "        const docLinkHtml = 'Like what you see? Visit the ' +\n",
              "          '<a target=\"_blank\" href=https://colab.research.google.com/notebooks/data_table.ipynb>data table notebook</a>'\n",
              "          + ' to learn more about interactive tables.';\n",
              "        element.innerHTML = '';\n",
              "        dataTable['output_type'] = 'display_data';\n",
              "        await google.colab.output.renderOutput(dataTable, element);\n",
              "        const docLink = document.createElement('div');\n",
              "        docLink.innerHTML = docLinkHtml;\n",
              "        element.appendChild(docLink);\n",
              "      }\n",
              "    </script>\n",
              "  </div>\n",
              "\n",
              "\n",
              "<div id=\"df-c4779ed2-f727-4cf1-8b88-96397350bab4\">\n",
              "  <button class=\"colab-df-quickchart\" onclick=\"quickchart('df-c4779ed2-f727-4cf1-8b88-96397350bab4')\"\n",
              "            title=\"Suggest charts\"\n",
              "            style=\"display:none;\">\n",
              "\n",
              "<svg xmlns=\"http://www.w3.org/2000/svg\" height=\"24px\"viewBox=\"0 0 24 24\"\n",
              "     width=\"24px\">\n",
              "    <g>\n",
              "        <path d=\"M19 3H5c-1.1 0-2 .9-2 2v14c0 1.1.9 2 2 2h14c1.1 0 2-.9 2-2V5c0-1.1-.9-2-2-2zM9 17H7v-7h2v7zm4 0h-2V7h2v10zm4 0h-2v-4h2v4z\"/>\n",
              "    </g>\n",
              "</svg>\n",
              "  </button>\n",
              "\n",
              "<style>\n",
              "  .colab-df-quickchart {\n",
              "      --bg-color: #E8F0FE;\n",
              "      --fill-color: #1967D2;\n",
              "      --hover-bg-color: #E2EBFA;\n",
              "      --hover-fill-color: #174EA6;\n",
              "      --disabled-fill-color: #AAA;\n",
              "      --disabled-bg-color: #DDD;\n",
              "  }\n",
              "\n",
              "  [theme=dark] .colab-df-quickchart {\n",
              "      --bg-color: #3B4455;\n",
              "      --fill-color: #D2E3FC;\n",
              "      --hover-bg-color: #434B5C;\n",
              "      --hover-fill-color: #FFFFFF;\n",
              "      --disabled-bg-color: #3B4455;\n",
              "      --disabled-fill-color: #666;\n",
              "  }\n",
              "\n",
              "  .colab-df-quickchart {\n",
              "    background-color: var(--bg-color);\n",
              "    border: none;\n",
              "    border-radius: 50%;\n",
              "    cursor: pointer;\n",
              "    display: none;\n",
              "    fill: var(--fill-color);\n",
              "    height: 32px;\n",
              "    padding: 0;\n",
              "    width: 32px;\n",
              "  }\n",
              "\n",
              "  .colab-df-quickchart:hover {\n",
              "    background-color: var(--hover-bg-color);\n",
              "    box-shadow: 0 1px 2px rgba(60, 64, 67, 0.3), 0 1px 3px 1px rgba(60, 64, 67, 0.15);\n",
              "    fill: var(--button-hover-fill-color);\n",
              "  }\n",
              "\n",
              "  .colab-df-quickchart-complete:disabled,\n",
              "  .colab-df-quickchart-complete:disabled:hover {\n",
              "    background-color: var(--disabled-bg-color);\n",
              "    fill: var(--disabled-fill-color);\n",
              "    box-shadow: none;\n",
              "  }\n",
              "\n",
              "  .colab-df-spinner {\n",
              "    border: 2px solid var(--fill-color);\n",
              "    border-color: transparent;\n",
              "    border-bottom-color: var(--fill-color);\n",
              "    animation:\n",
              "      spin 1s steps(1) infinite;\n",
              "  }\n",
              "\n",
              "  @keyframes spin {\n",
              "    0% {\n",
              "      border-color: transparent;\n",
              "      border-bottom-color: var(--fill-color);\n",
              "      border-left-color: var(--fill-color);\n",
              "    }\n",
              "    20% {\n",
              "      border-color: transparent;\n",
              "      border-left-color: var(--fill-color);\n",
              "      border-top-color: var(--fill-color);\n",
              "    }\n",
              "    30% {\n",
              "      border-color: transparent;\n",
              "      border-left-color: var(--fill-color);\n",
              "      border-top-color: var(--fill-color);\n",
              "      border-right-color: var(--fill-color);\n",
              "    }\n",
              "    40% {\n",
              "      border-color: transparent;\n",
              "      border-right-color: var(--fill-color);\n",
              "      border-top-color: var(--fill-color);\n",
              "    }\n",
              "    60% {\n",
              "      border-color: transparent;\n",
              "      border-right-color: var(--fill-color);\n",
              "    }\n",
              "    80% {\n",
              "      border-color: transparent;\n",
              "      border-right-color: var(--fill-color);\n",
              "      border-bottom-color: var(--fill-color);\n",
              "    }\n",
              "    90% {\n",
              "      border-color: transparent;\n",
              "      border-bottom-color: var(--fill-color);\n",
              "    }\n",
              "  }\n",
              "</style>\n",
              "\n",
              "  <script>\n",
              "    async function quickchart(key) {\n",
              "      const quickchartButtonEl =\n",
              "        document.querySelector('#' + key + ' button');\n",
              "      quickchartButtonEl.disabled = true;  // To prevent multiple clicks.\n",
              "      quickchartButtonEl.classList.add('colab-df-spinner');\n",
              "      try {\n",
              "        const charts = await google.colab.kernel.invokeFunction(\n",
              "            'suggestCharts', [key], {});\n",
              "      } catch (error) {\n",
              "        console.error('Error during call to suggestCharts:', error);\n",
              "      }\n",
              "      quickchartButtonEl.classList.remove('colab-df-spinner');\n",
              "      quickchartButtonEl.classList.add('colab-df-quickchart-complete');\n",
              "    }\n",
              "    (() => {\n",
              "      let quickchartButtonEl =\n",
              "        document.querySelector('#df-c4779ed2-f727-4cf1-8b88-96397350bab4 button');\n",
              "      quickchartButtonEl.style.display =\n",
              "        google.colab.kernel.accessAllowed ? 'block' : 'none';\n",
              "    })();\n",
              "  </script>\n",
              "</div>\n",
              "\n",
              "    </div>\n",
              "  </div>\n"
            ],
            "application/vnd.google.colaboratory.intrinsic+json": {
              "type": "dataframe",
              "summary": "{\n  \"name\": \"df\",\n  \"rows\": 5,\n  \"fields\": [\n    {\n      \"column\": \"date_time\",\n      \"properties\": {\n        \"dtype\": \"date\",\n        \"min\": \"2016-11-25 07:00:00\",\n        \"max\": \"2018-03-13 10:00:00\",\n        \"num_unique_values\": 5,\n        \"samples\": [\n          \"2016-11-25 07:00:00\",\n          \"2018-02-09 15:00:00\",\n          \"2018-03-13 10:00:00\"\n        ],\n        \"semantic_type\": \"\",\n        \"description\": \"\"\n      }\n    },\n    {\n      \"column\": \"traffic_volume\",\n      \"properties\": {\n        \"dtype\": \"number\",\n        \"std\": 2115.043569291186,\n        \"min\": 1396.0,\n        \"max\": 6674.0,\n        \"num_unique_values\": 5,\n        \"samples\": [\n          1396.0,\n          5861.0,\n          4410.0\n        ],\n        \"semantic_type\": \"\",\n        \"description\": \"\"\n      }\n    },\n    {\n      \"column\": \"temp\",\n      \"properties\": {\n        \"dtype\": \"number\",\n        \"std\": 12.614915774590022,\n        \"min\": 261.08,\n        \"max\": 291.02,\n        \"num_unique_values\": 5,\n        \"samples\": [\n          274.08,\n          261.08,\n          269.21\n        ],\n        \"semantic_type\": \"\",\n        \"description\": \"\"\n      }\n    },\n    {\n      \"column\": \"rain_1h\",\n      \"properties\": {\n        \"dtype\": \"number\",\n        \"std\": 0.0,\n        \"min\": 0.0,\n        \"max\": 0.0,\n        \"num_unique_values\": 1,\n        \"samples\": [\n          0.0\n        ],\n        \"semantic_type\": \"\",\n        \"description\": \"\"\n      }\n    },\n    {\n      \"column\": \"snow_1h\",\n      \"properties\": {\n        \"dtype\": \"number\",\n        \"std\": 0.0,\n        \"min\": 0.0,\n        \"max\": 0.0,\n        \"num_unique_values\": 1,\n        \"samples\": [\n          0.0\n        ],\n        \"semantic_type\": \"\",\n        \"description\": \"\"\n      }\n    },\n    {\n      \"column\": \"clouds_all\",\n      \"properties\": {\n        \"dtype\": \"number\",\n        \"std\": 36,\n        \"min\": 20,\n        \"max\": 90,\n        \"num_unique_values\": 3,\n        \"samples\": [\n          90\n        ],\n        \"semantic_type\": \"\",\n        \"description\": \"\"\n      }\n    },\n    {\n      \"column\": \"weather_main\",\n      \"properties\": {\n        \"dtype\": \"category\",\n        \"num_unique_values\": 2,\n        \"samples\": [\n          \"Mist\"\n        ],\n        \"semantic_type\": \"\",\n        \"description\": \"\"\n      }\n    },\n    {\n      \"column\": \"weather_description\",\n      \"properties\": {\n        \"dtype\": \"string\",\n        \"num_unique_values\": 4,\n        \"samples\": [\n          \"mist\"\n        ],\n        \"semantic_type\": \"\",\n        \"description\": \"\"\n      }\n    }\n  ]\n}"
            }
          },
          "metadata": {},
          "execution_count": 6
        }
      ]
    },
    {
      "cell_type": "code",
      "source": [
        "df.describe()"
      ],
      "metadata": {
        "id": "s-mYHsjOAYhE",
        "outputId": "2b2479fb-10fe-4c8d-8974-a9c2b13027b7",
        "colab": {
          "base_uri": "https://localhost:8080/",
          "height": 300
        }
      },
      "id": "s-mYHsjOAYhE",
      "execution_count": null,
      "outputs": [
        {
          "output_type": "execute_result",
          "data": {
            "text/plain": [
              "       traffic_volume          temp       rain_1h  snow_1h    clouds_all\n",
              "count    19980.000000  20000.000000  20000.000000  20000.0  20000.000000\n",
              "mean      3278.186887    281.162680      0.048396      0.0     49.384600\n",
              "std       1977.171357     12.661288      0.398007      0.0     39.647341\n",
              "min        113.000000    243.390000      0.000000      0.0      0.000000\n",
              "25%       1228.750000    271.950000      0.000000      0.0      1.000000\n",
              "50%       3430.000000    281.825000      0.000000      0.0     75.000000\n",
              "75%       4928.000000    291.840000      0.000000      0.0     90.000000\n",
              "max      16781.000000    310.070000     10.600000      0.0     92.000000"
            ],
            "text/html": [
              "\n",
              "  <div id=\"df-c68be38e-78da-498c-be63-35a629ba74a8\" class=\"colab-df-container\">\n",
              "    <div>\n",
              "<style scoped>\n",
              "    .dataframe tbody tr th:only-of-type {\n",
              "        vertical-align: middle;\n",
              "    }\n",
              "\n",
              "    .dataframe tbody tr th {\n",
              "        vertical-align: top;\n",
              "    }\n",
              "\n",
              "    .dataframe thead th {\n",
              "        text-align: right;\n",
              "    }\n",
              "</style>\n",
              "<table border=\"1\" class=\"dataframe\">\n",
              "  <thead>\n",
              "    <tr style=\"text-align: right;\">\n",
              "      <th></th>\n",
              "      <th>traffic_volume</th>\n",
              "      <th>temp</th>\n",
              "      <th>rain_1h</th>\n",
              "      <th>snow_1h</th>\n",
              "      <th>clouds_all</th>\n",
              "    </tr>\n",
              "  </thead>\n",
              "  <tbody>\n",
              "    <tr>\n",
              "      <th>count</th>\n",
              "      <td>19980.000000</td>\n",
              "      <td>20000.000000</td>\n",
              "      <td>20000.000000</td>\n",
              "      <td>20000.0</td>\n",
              "      <td>20000.000000</td>\n",
              "    </tr>\n",
              "    <tr>\n",
              "      <th>mean</th>\n",
              "      <td>3278.186887</td>\n",
              "      <td>281.162680</td>\n",
              "      <td>0.048396</td>\n",
              "      <td>0.0</td>\n",
              "      <td>49.384600</td>\n",
              "    </tr>\n",
              "    <tr>\n",
              "      <th>std</th>\n",
              "      <td>1977.171357</td>\n",
              "      <td>12.661288</td>\n",
              "      <td>0.398007</td>\n",
              "      <td>0.0</td>\n",
              "      <td>39.647341</td>\n",
              "    </tr>\n",
              "    <tr>\n",
              "      <th>min</th>\n",
              "      <td>113.000000</td>\n",
              "      <td>243.390000</td>\n",
              "      <td>0.000000</td>\n",
              "      <td>0.0</td>\n",
              "      <td>0.000000</td>\n",
              "    </tr>\n",
              "    <tr>\n",
              "      <th>25%</th>\n",
              "      <td>1228.750000</td>\n",
              "      <td>271.950000</td>\n",
              "      <td>0.000000</td>\n",
              "      <td>0.0</td>\n",
              "      <td>1.000000</td>\n",
              "    </tr>\n",
              "    <tr>\n",
              "      <th>50%</th>\n",
              "      <td>3430.000000</td>\n",
              "      <td>281.825000</td>\n",
              "      <td>0.000000</td>\n",
              "      <td>0.0</td>\n",
              "      <td>75.000000</td>\n",
              "    </tr>\n",
              "    <tr>\n",
              "      <th>75%</th>\n",
              "      <td>4928.000000</td>\n",
              "      <td>291.840000</td>\n",
              "      <td>0.000000</td>\n",
              "      <td>0.0</td>\n",
              "      <td>90.000000</td>\n",
              "    </tr>\n",
              "    <tr>\n",
              "      <th>max</th>\n",
              "      <td>16781.000000</td>\n",
              "      <td>310.070000</td>\n",
              "      <td>10.600000</td>\n",
              "      <td>0.0</td>\n",
              "      <td>92.000000</td>\n",
              "    </tr>\n",
              "  </tbody>\n",
              "</table>\n",
              "</div>\n",
              "    <div class=\"colab-df-buttons\">\n",
              "\n",
              "  <div class=\"colab-df-container\">\n",
              "    <button class=\"colab-df-convert\" onclick=\"convertToInteractive('df-c68be38e-78da-498c-be63-35a629ba74a8')\"\n",
              "            title=\"Convert this dataframe to an interactive table.\"\n",
              "            style=\"display:none;\">\n",
              "\n",
              "  <svg xmlns=\"http://www.w3.org/2000/svg\" height=\"24px\" viewBox=\"0 -960 960 960\">\n",
              "    <path d=\"M120-120v-720h720v720H120Zm60-500h600v-160H180v160Zm220 220h160v-160H400v160Zm0 220h160v-160H400v160ZM180-400h160v-160H180v160Zm440 0h160v-160H620v160ZM180-180h160v-160H180v160Zm440 0h160v-160H620v160Z\"/>\n",
              "  </svg>\n",
              "    </button>\n",
              "\n",
              "  <style>\n",
              "    .colab-df-container {\n",
              "      display:flex;\n",
              "      gap: 12px;\n",
              "    }\n",
              "\n",
              "    .colab-df-convert {\n",
              "      background-color: #E8F0FE;\n",
              "      border: none;\n",
              "      border-radius: 50%;\n",
              "      cursor: pointer;\n",
              "      display: none;\n",
              "      fill: #1967D2;\n",
              "      height: 32px;\n",
              "      padding: 0 0 0 0;\n",
              "      width: 32px;\n",
              "    }\n",
              "\n",
              "    .colab-df-convert:hover {\n",
              "      background-color: #E2EBFA;\n",
              "      box-shadow: 0px 1px 2px rgba(60, 64, 67, 0.3), 0px 1px 3px 1px rgba(60, 64, 67, 0.15);\n",
              "      fill: #174EA6;\n",
              "    }\n",
              "\n",
              "    .colab-df-buttons div {\n",
              "      margin-bottom: 4px;\n",
              "    }\n",
              "\n",
              "    [theme=dark] .colab-df-convert {\n",
              "      background-color: #3B4455;\n",
              "      fill: #D2E3FC;\n",
              "    }\n",
              "\n",
              "    [theme=dark] .colab-df-convert:hover {\n",
              "      background-color: #434B5C;\n",
              "      box-shadow: 0px 1px 3px 1px rgba(0, 0, 0, 0.15);\n",
              "      filter: drop-shadow(0px 1px 2px rgba(0, 0, 0, 0.3));\n",
              "      fill: #FFFFFF;\n",
              "    }\n",
              "  </style>\n",
              "\n",
              "    <script>\n",
              "      const buttonEl =\n",
              "        document.querySelector('#df-c68be38e-78da-498c-be63-35a629ba74a8 button.colab-df-convert');\n",
              "      buttonEl.style.display =\n",
              "        google.colab.kernel.accessAllowed ? 'block' : 'none';\n",
              "\n",
              "      async function convertToInteractive(key) {\n",
              "        const element = document.querySelector('#df-c68be38e-78da-498c-be63-35a629ba74a8');\n",
              "        const dataTable =\n",
              "          await google.colab.kernel.invokeFunction('convertToInteractive',\n",
              "                                                    [key], {});\n",
              "        if (!dataTable) return;\n",
              "\n",
              "        const docLinkHtml = 'Like what you see? Visit the ' +\n",
              "          '<a target=\"_blank\" href=https://colab.research.google.com/notebooks/data_table.ipynb>data table notebook</a>'\n",
              "          + ' to learn more about interactive tables.';\n",
              "        element.innerHTML = '';\n",
              "        dataTable['output_type'] = 'display_data';\n",
              "        await google.colab.output.renderOutput(dataTable, element);\n",
              "        const docLink = document.createElement('div');\n",
              "        docLink.innerHTML = docLinkHtml;\n",
              "        element.appendChild(docLink);\n",
              "      }\n",
              "    </script>\n",
              "  </div>\n",
              "\n",
              "\n",
              "<div id=\"df-5f39ee3e-3567-4162-a895-9d6ee15dae71\">\n",
              "  <button class=\"colab-df-quickchart\" onclick=\"quickchart('df-5f39ee3e-3567-4162-a895-9d6ee15dae71')\"\n",
              "            title=\"Suggest charts\"\n",
              "            style=\"display:none;\">\n",
              "\n",
              "<svg xmlns=\"http://www.w3.org/2000/svg\" height=\"24px\"viewBox=\"0 0 24 24\"\n",
              "     width=\"24px\">\n",
              "    <g>\n",
              "        <path d=\"M19 3H5c-1.1 0-2 .9-2 2v14c0 1.1.9 2 2 2h14c1.1 0 2-.9 2-2V5c0-1.1-.9-2-2-2zM9 17H7v-7h2v7zm4 0h-2V7h2v10zm4 0h-2v-4h2v4z\"/>\n",
              "    </g>\n",
              "</svg>\n",
              "  </button>\n",
              "\n",
              "<style>\n",
              "  .colab-df-quickchart {\n",
              "      --bg-color: #E8F0FE;\n",
              "      --fill-color: #1967D2;\n",
              "      --hover-bg-color: #E2EBFA;\n",
              "      --hover-fill-color: #174EA6;\n",
              "      --disabled-fill-color: #AAA;\n",
              "      --disabled-bg-color: #DDD;\n",
              "  }\n",
              "\n",
              "  [theme=dark] .colab-df-quickchart {\n",
              "      --bg-color: #3B4455;\n",
              "      --fill-color: #D2E3FC;\n",
              "      --hover-bg-color: #434B5C;\n",
              "      --hover-fill-color: #FFFFFF;\n",
              "      --disabled-bg-color: #3B4455;\n",
              "      --disabled-fill-color: #666;\n",
              "  }\n",
              "\n",
              "  .colab-df-quickchart {\n",
              "    background-color: var(--bg-color);\n",
              "    border: none;\n",
              "    border-radius: 50%;\n",
              "    cursor: pointer;\n",
              "    display: none;\n",
              "    fill: var(--fill-color);\n",
              "    height: 32px;\n",
              "    padding: 0;\n",
              "    width: 32px;\n",
              "  }\n",
              "\n",
              "  .colab-df-quickchart:hover {\n",
              "    background-color: var(--hover-bg-color);\n",
              "    box-shadow: 0 1px 2px rgba(60, 64, 67, 0.3), 0 1px 3px 1px rgba(60, 64, 67, 0.15);\n",
              "    fill: var(--button-hover-fill-color);\n",
              "  }\n",
              "\n",
              "  .colab-df-quickchart-complete:disabled,\n",
              "  .colab-df-quickchart-complete:disabled:hover {\n",
              "    background-color: var(--disabled-bg-color);\n",
              "    fill: var(--disabled-fill-color);\n",
              "    box-shadow: none;\n",
              "  }\n",
              "\n",
              "  .colab-df-spinner {\n",
              "    border: 2px solid var(--fill-color);\n",
              "    border-color: transparent;\n",
              "    border-bottom-color: var(--fill-color);\n",
              "    animation:\n",
              "      spin 1s steps(1) infinite;\n",
              "  }\n",
              "\n",
              "  @keyframes spin {\n",
              "    0% {\n",
              "      border-color: transparent;\n",
              "      border-bottom-color: var(--fill-color);\n",
              "      border-left-color: var(--fill-color);\n",
              "    }\n",
              "    20% {\n",
              "      border-color: transparent;\n",
              "      border-left-color: var(--fill-color);\n",
              "      border-top-color: var(--fill-color);\n",
              "    }\n",
              "    30% {\n",
              "      border-color: transparent;\n",
              "      border-left-color: var(--fill-color);\n",
              "      border-top-color: var(--fill-color);\n",
              "      border-right-color: var(--fill-color);\n",
              "    }\n",
              "    40% {\n",
              "      border-color: transparent;\n",
              "      border-right-color: var(--fill-color);\n",
              "      border-top-color: var(--fill-color);\n",
              "    }\n",
              "    60% {\n",
              "      border-color: transparent;\n",
              "      border-right-color: var(--fill-color);\n",
              "    }\n",
              "    80% {\n",
              "      border-color: transparent;\n",
              "      border-right-color: var(--fill-color);\n",
              "      border-bottom-color: var(--fill-color);\n",
              "    }\n",
              "    90% {\n",
              "      border-color: transparent;\n",
              "      border-bottom-color: var(--fill-color);\n",
              "    }\n",
              "  }\n",
              "</style>\n",
              "\n",
              "  <script>\n",
              "    async function quickchart(key) {\n",
              "      const quickchartButtonEl =\n",
              "        document.querySelector('#' + key + ' button');\n",
              "      quickchartButtonEl.disabled = true;  // To prevent multiple clicks.\n",
              "      quickchartButtonEl.classList.add('colab-df-spinner');\n",
              "      try {\n",
              "        const charts = await google.colab.kernel.invokeFunction(\n",
              "            'suggestCharts', [key], {});\n",
              "      } catch (error) {\n",
              "        console.error('Error during call to suggestCharts:', error);\n",
              "      }\n",
              "      quickchartButtonEl.classList.remove('colab-df-spinner');\n",
              "      quickchartButtonEl.classList.add('colab-df-quickchart-complete');\n",
              "    }\n",
              "    (() => {\n",
              "      let quickchartButtonEl =\n",
              "        document.querySelector('#df-5f39ee3e-3567-4162-a895-9d6ee15dae71 button');\n",
              "      quickchartButtonEl.style.display =\n",
              "        google.colab.kernel.accessAllowed ? 'block' : 'none';\n",
              "    })();\n",
              "  </script>\n",
              "</div>\n",
              "\n",
              "    </div>\n",
              "  </div>\n"
            ],
            "application/vnd.google.colaboratory.intrinsic+json": {
              "type": "dataframe",
              "summary": "{\n  \"name\": \"df\",\n  \"rows\": 8,\n  \"fields\": [\n    {\n      \"column\": \"traffic_volume\",\n      \"properties\": {\n        \"dtype\": \"number\",\n        \"std\": 7547.102328702696,\n        \"min\": 113.0,\n        \"max\": 19980.0,\n        \"num_unique_values\": 8,\n        \"samples\": [\n          3278.186886886887,\n          3430.0,\n          19980.0\n        ],\n        \"semantic_type\": \"\",\n        \"description\": \"\"\n      }\n    },\n    {\n      \"column\": \"temp\",\n      \"properties\": {\n        \"dtype\": \"number\",\n        \"std\": 6986.21514507906,\n        \"min\": 12.6612879499204,\n        \"max\": 20000.0,\n        \"num_unique_values\": 8,\n        \"samples\": [\n          281.1626798,\n          281.825,\n          20000.0\n        ],\n        \"semantic_type\": \"\",\n        \"description\": \"\"\n      }\n    },\n    {\n      \"column\": \"rain_1h\",\n      \"properties\": {\n        \"dtype\": \"number\",\n        \"std\": 7070.5108449178,\n        \"min\": 0.0,\n        \"max\": 20000.0,\n        \"num_unique_values\": 5,\n        \"samples\": [\n          0.0483955,\n          10.6,\n          0.39800673492769245\n        ],\n        \"semantic_type\": \"\",\n        \"description\": \"\"\n      }\n    },\n    {\n      \"column\": \"snow_1h\",\n      \"properties\": {\n        \"dtype\": \"number\",\n        \"std\": 7071.067811865475,\n        \"min\": 0.0,\n        \"max\": 20000.0,\n        \"num_unique_values\": 2,\n        \"samples\": [\n          0.0,\n          20000.0\n        ],\n        \"semantic_type\": \"\",\n        \"description\": \"\"\n      }\n    },\n    {\n      \"column\": \"clouds_all\",\n      \"properties\": {\n        \"dtype\": \"number\",\n        \"std\": 7053.631153500792,\n        \"min\": 0.0,\n        \"max\": 20000.0,\n        \"num_unique_values\": 8,\n        \"samples\": [\n          49.3846,\n          75.0\n        ],\n        \"semantic_type\": \"\",\n        \"description\": \"\"\n      }\n    }\n  ]\n}"
            }
          },
          "metadata": {},
          "execution_count": 7
        }
      ]
    },
    {
      "cell_type": "code",
      "source": [
        "df.duplicated().sum()"
      ],
      "metadata": {
        "id": "84CtbMUZAaQR",
        "outputId": "99aa4c13-bd28-4cf7-c5b3-71fdcc5f15f1",
        "colab": {
          "base_uri": "https://localhost:8080/"
        }
      },
      "id": "84CtbMUZAaQR",
      "execution_count": 5,
      "outputs": [
        {
          "output_type": "execute_result",
          "data": {
            "text/plain": [
              "18"
            ]
          },
          "metadata": {},
          "execution_count": 5
        }
      ]
    },
    {
      "cell_type": "code",
      "source": [
        "df.drop_duplicates(inplace=True)"
      ],
      "metadata": {
        "id": "MmfAqeZDAmMa"
      },
      "id": "MmfAqeZDAmMa",
      "execution_count": 6,
      "outputs": []
    },
    {
      "cell_type": "code",
      "source": [
        "df.duplicated().sum()"
      ],
      "metadata": {
        "id": "VvWxyajBAk99",
        "outputId": "0765d989-406d-4d82-a53f-13a67659963c",
        "colab": {
          "base_uri": "https://localhost:8080/"
        }
      },
      "id": "VvWxyajBAk99",
      "execution_count": 7,
      "outputs": [
        {
          "output_type": "execute_result",
          "data": {
            "text/plain": [
              "0"
            ]
          },
          "metadata": {},
          "execution_count": 7
        }
      ]
    },
    {
      "cell_type": "code",
      "source": [
        "df.isna().sum()"
      ],
      "metadata": {
        "id": "MCFf1AivBQff",
        "outputId": "7aa87671-ca0e-4e6f-bd2a-ec5da1d416b2",
        "colab": {
          "base_uri": "https://localhost:8080/",
          "height": 303
        }
      },
      "id": "MCFf1AivBQff",
      "execution_count": 8,
      "outputs": [
        {
          "output_type": "execute_result",
          "data": {
            "text/plain": [
              "traffic_volume         20\n",
              "temp                    0\n",
              "rain_1h                 0\n",
              "snow_1h                 0\n",
              "clouds_all              0\n",
              "weather_main            0\n",
              "weather_description     0\n",
              "dtype: int64"
            ],
            "text/html": [
              "<div>\n",
              "<style scoped>\n",
              "    .dataframe tbody tr th:only-of-type {\n",
              "        vertical-align: middle;\n",
              "    }\n",
              "\n",
              "    .dataframe tbody tr th {\n",
              "        vertical-align: top;\n",
              "    }\n",
              "\n",
              "    .dataframe thead th {\n",
              "        text-align: right;\n",
              "    }\n",
              "</style>\n",
              "<table border=\"1\" class=\"dataframe\">\n",
              "  <thead>\n",
              "    <tr style=\"text-align: right;\">\n",
              "      <th></th>\n",
              "      <th>0</th>\n",
              "    </tr>\n",
              "  </thead>\n",
              "  <tbody>\n",
              "    <tr>\n",
              "      <th>traffic_volume</th>\n",
              "      <td>20</td>\n",
              "    </tr>\n",
              "    <tr>\n",
              "      <th>temp</th>\n",
              "      <td>0</td>\n",
              "    </tr>\n",
              "    <tr>\n",
              "      <th>rain_1h</th>\n",
              "      <td>0</td>\n",
              "    </tr>\n",
              "    <tr>\n",
              "      <th>snow_1h</th>\n",
              "      <td>0</td>\n",
              "    </tr>\n",
              "    <tr>\n",
              "      <th>clouds_all</th>\n",
              "      <td>0</td>\n",
              "    </tr>\n",
              "    <tr>\n",
              "      <th>weather_main</th>\n",
              "      <td>0</td>\n",
              "    </tr>\n",
              "    <tr>\n",
              "      <th>weather_description</th>\n",
              "      <td>0</td>\n",
              "    </tr>\n",
              "  </tbody>\n",
              "</table>\n",
              "</div><br><label><b>dtype:</b> int64</label>"
            ]
          },
          "metadata": {},
          "execution_count": 8
        }
      ]
    },
    {
      "cell_type": "code",
      "source": [
        "df['traffic_volume']=df['traffic_volume'].fillna(df['traffic_volume'].mode()[0])"
      ],
      "metadata": {
        "id": "bstB8qLuBTuh"
      },
      "id": "bstB8qLuBTuh",
      "execution_count": 9,
      "outputs": []
    },
    {
      "cell_type": "code",
      "source": [
        "df.isna().sum()"
      ],
      "metadata": {
        "id": "x-avjAIMHEL-",
        "outputId": "36a69229-c160-4129-c2c1-c38a39404400",
        "colab": {
          "base_uri": "https://localhost:8080/",
          "height": 303
        }
      },
      "id": "x-avjAIMHEL-",
      "execution_count": 10,
      "outputs": [
        {
          "output_type": "execute_result",
          "data": {
            "text/plain": [
              "traffic_volume         0\n",
              "temp                   0\n",
              "rain_1h                0\n",
              "snow_1h                0\n",
              "clouds_all             0\n",
              "weather_main           0\n",
              "weather_description    0\n",
              "dtype: int64"
            ],
            "text/html": [
              "<div>\n",
              "<style scoped>\n",
              "    .dataframe tbody tr th:only-of-type {\n",
              "        vertical-align: middle;\n",
              "    }\n",
              "\n",
              "    .dataframe tbody tr th {\n",
              "        vertical-align: top;\n",
              "    }\n",
              "\n",
              "    .dataframe thead th {\n",
              "        text-align: right;\n",
              "    }\n",
              "</style>\n",
              "<table border=\"1\" class=\"dataframe\">\n",
              "  <thead>\n",
              "    <tr style=\"text-align: right;\">\n",
              "      <th></th>\n",
              "      <th>0</th>\n",
              "    </tr>\n",
              "  </thead>\n",
              "  <tbody>\n",
              "    <tr>\n",
              "      <th>traffic_volume</th>\n",
              "      <td>0</td>\n",
              "    </tr>\n",
              "    <tr>\n",
              "      <th>temp</th>\n",
              "      <td>0</td>\n",
              "    </tr>\n",
              "    <tr>\n",
              "      <th>rain_1h</th>\n",
              "      <td>0</td>\n",
              "    </tr>\n",
              "    <tr>\n",
              "      <th>snow_1h</th>\n",
              "      <td>0</td>\n",
              "    </tr>\n",
              "    <tr>\n",
              "      <th>clouds_all</th>\n",
              "      <td>0</td>\n",
              "    </tr>\n",
              "    <tr>\n",
              "      <th>weather_main</th>\n",
              "      <td>0</td>\n",
              "    </tr>\n",
              "    <tr>\n",
              "      <th>weather_description</th>\n",
              "      <td>0</td>\n",
              "    </tr>\n",
              "  </tbody>\n",
              "</table>\n",
              "</div><br><label><b>dtype:</b> int64</label>"
            ]
          },
          "metadata": {},
          "execution_count": 10
        }
      ]
    },
    {
      "cell_type": "code",
      "execution_count": 11,
      "id": "05f6fffa",
      "metadata": {
        "id": "05f6fffa",
        "outputId": "950a3990-4791-4efd-a47c-73159ccea1df",
        "colab": {
          "base_uri": "https://localhost:8080/",
          "height": 437
        }
      },
      "outputs": [
        {
          "output_type": "display_data",
          "data": {
            "text/plain": [
              "<Figure size 640x480 with 1 Axes>"
            ],
            "image/png": "[encoded data removed]"
          },
          "metadata": {}
        }
      ],
      "source": [
        "df.plot()\n",
        "plt.show()"
      ]
    },
    {
      "cell_type": "code",
      "source": [
        "from statsmodels.tsa.seasonal import seasonal_decompose\n",
        "\n",
        "result = seasonal_decompose(df['temp'], model='additive', period=365)\n",
        "result.plot()\n",
        "plt.show()"
      ],
      "metadata": {
        "id": "IIrwaGx4_1v_",
        "outputId": "780e53c2-6962-4990-f1ac-e53f9447bbc8",
        "colab": {
          "base_uri": "https://localhost:8080/",
          "height": 487
        }
      },
      "id": "IIrwaGx4_1v_",
      "execution_count": 12,
      "outputs": [
        {
          "output_type": "display_data",
          "data": {
            "text/plain": [
              "<Figure size 640x480 with 4 Axes>"
            ],
            "image/png": "[encoded data removed]"
          },
          "metadata": {}
        }
      ]
    },
    {
      "cell_type": "code",
      "source": [
        "plt.figure(figsize=(10, 8))\n",
        "sns.boxplot(data=df)\n",
        "plt.show()"
      ],
      "metadata": {
        "id": "Ptazg13GCIip",
        "outputId": "a8082399-8a6f-4453-c750-eae63b2b18a6",
        "colab": {
          "base_uri": "https://localhost:8080/",
          "height": 678
        }
      },
      "id": "Ptazg13GCIip",
      "execution_count": 13,
      "outputs": [
        {
          "output_type": "display_data",
          "data": {
            "text/plain": [
              "<Figure size 1000x800 with 1 Axes>"
            ],
            "image/png": "[encoded data removed]"
          },
          "metadata": {}
        }
      ]
    },
    {
      "cell_type": "code",
      "source": [
        "def remove_outliers(df, column):\n",
        "    Q1 = df[column].quantile(0.25)\n",
        "    Q3 = df[column].quantile(0.75)\n",
        "    IQR = Q3 - Q1\n",
        "    lower_bound = Q1 - 1.5 * IQR\n",
        "    upper_bound = Q3 + 1.5 * IQR\n",
        "    return df[(df[column] >= lower_bound) & (df[column] <= upper_bound)]\n",
        "\n",
        "df = remove_outliers(df, 'traffic_volume')"
      ],
      "metadata": {
        "id": "GOhMEKLjCOAG"
      },
      "id": "GOhMEKLjCOAG",
      "execution_count": 14,
      "outputs": []
    },
    {
      "cell_type": "code",
      "source": [
        "plt.figure(figsize=(10, 8))\n",
        "sns.boxplot(data=df)\n",
        "plt.show()"
      ],
      "metadata": {
        "id": "4_9u1XwfCWjb",
        "outputId": "df105ab3-cf93-4c8f-c76d-fac34fe446ce",
        "colab": {
          "base_uri": "https://localhost:8080/",
          "height": 676
        }
      },
      "id": "4_9u1XwfCWjb",
      "execution_count": 15,
      "outputs": [
        {
          "output_type": "display_data",
          "data": {
            "text/plain": [
              "<Figure size 1000x800 with 1 Axes>"
            ],
            "image/png": "[encoded data removed]"
          },
          "metadata": {}
        }
      ]
    },
    {
      "cell_type": "markdown",
      "id": "5827fb18",
      "metadata": {
        "id": "5827fb18"
      },
      "source": [
        "## Data Preprocessing\n",
        "\n",
        "Clean and preprocess the data.\n",
        "\n",
        "**Instructions:**\n",
        "- Handle any missing values in the dataset.\n",
        "- If necessary, resample the data to ensure consistent time intervals.\n",
        "- Create any additional features needed, such as lags or moving averages.\n",
        "- Make sure that the dates are sorted correctly.\n",
        "\n",
        "Do more if needed!"
      ]
    },
    {
      "cell_type": "code",
      "source": [
        "from sklearn.preprocessing import OneHotEncoder, LabelEncoder"
      ],
      "metadata": {
        "id": "V1hCu4X5Cun4"
      },
      "id": "V1hCu4X5Cun4",
      "execution_count": 16,
      "outputs": []
    },
    {
      "cell_type": "code",
      "source": [
        "encoding=LabelEncoder()\n",
        "df['weather_main']=encoding.fit_transform(df['weather_main'])\n",
        "df['weather_description']=encoding.fit_transform(df['weather_description'])"
      ],
      "metadata": {
        "id": "TWZL3zJ9Cz-g",
        "outputId": "71576701-f546-4756-f3f1-cadf0d1210ff",
        "colab": {
          "base_uri": "https://localhost:8080/"
        }
      },
      "id": "TWZL3zJ9Cz-g",
      "execution_count": 17,
      "outputs": [
        {
          "output_type": "stream",
          "name": "stderr",
          "text": [
            "<ipython-input-17-855dbc03b7e4>:2: SettingWithCopyWarning: \n",
            "A value is trying to be set on a copy of a slice from a DataFrame.\n",
            "Try using .loc[row_indexer,col_indexer] = value instead\n",
            "\n",
            "See the caveats in the documentation: https://pandas.pydata.org/pandas-docs/stable/user_guide/indexing.html#returning-a-view-versus-a-copy\n",
            "  df['weather_main']=encoding.fit_transform(df['weather_main'])\n",
            "<ipython-input-17-855dbc03b7e4>:3: SettingWithCopyWarning: \n",
            "A value is trying to be set on a copy of a slice from a DataFrame.\n",
            "Try using .loc[row_indexer,col_indexer] = value instead\n",
            "\n",
            "See the caveats in the documentation: https://pandas.pydata.org/pandas-docs/stable/user_guide/indexing.html#returning-a-view-versus-a-copy\n",
            "  df['weather_description']=encoding.fit_transform(df['weather_description'])\n"
          ]
        }
      ]
    },
    {
      "cell_type": "code",
      "execution_count": 18,
      "id": "c27410bc",
      "metadata": {
        "id": "c27410bc"
      },
      "outputs": [],
      "source": [
        "df_resampled = df.resample('D').mean()"
      ]
    },
    {
      "cell_type": "code",
      "source": [
        "df.sort_index(inplace=True)"
      ],
      "metadata": {
        "id": "o2QtPBmZCh4A",
        "outputId": "642e388b-7852-4905-db79-c4364b613b04",
        "colab": {
          "base_uri": "https://localhost:8080/"
        }
      },
      "id": "o2QtPBmZCh4A",
      "execution_count": 19,
      "outputs": [
        {
          "output_type": "stream",
          "name": "stderr",
          "text": [
            "<ipython-input-19-937e54797a99>:1: SettingWithCopyWarning: \n",
            "A value is trying to be set on a copy of a slice from a DataFrame\n",
            "\n",
            "See the caveats in the documentation: https://pandas.pydata.org/pandas-docs/stable/user_guide/indexing.html#returning-a-view-versus-a-copy\n",
            "  df.sort_index(inplace=True)\n"
          ]
        }
      ]
    },
    {
      "cell_type": "markdown",
      "id": "10def3f0",
      "metadata": {
        "id": "10def3f0"
      },
      "source": [
        "## Feature Engineering\n",
        "\n",
        "### Instructions:\n",
        "  \n",
        "- **Shift Method**: Use the `shift` method to create a new column `prev_traffic_volume`, which represents the previous day's traffic volume.\n",
        "\n",
        "- **Difference between traffic_volume**: Calculate the difference between the values in `traffic_volume` column to highlight short-term volume.\n",
        "\n",
        "- **Date Features**: Extract meaningful time-based features from the `date_time` column to enhance the model's ability to detect temporal patterns. These features include:\n",
        "  - **Day of the week**: To capture weekly seasonality.\n",
        "  - **Month**: To capture monthly trends.\n",
        "  - **Day of the year**: Useful for modeling yearly seasonality.\n"
      ]
    },
    {
      "cell_type": "code",
      "execution_count": 20,
      "id": "d62cd837",
      "metadata": {
        "id": "d62cd837",
        "outputId": "d3fc1a6f-915a-43ae-f660-19e364bcca10",
        "colab": {
          "base_uri": "https://localhost:8080/"
        }
      },
      "outputs": [
        {
          "output_type": "stream",
          "name": "stderr",
          "text": [
            "<ipython-input-20-1ee6ae8f28d0>:1: SettingWithCopyWarning: \n",
            "A value is trying to be set on a copy of a slice from a DataFrame.\n",
            "Try using .loc[row_indexer,col_indexer] = value instead\n",
            "\n",
            "See the caveats in the documentation: https://pandas.pydata.org/pandas-docs/stable/user_guide/indexing.html#returning-a-view-versus-a-copy\n",
            "  df['prev_traffic_volume'] = df['traffic_volume'].shift(1)\n"
          ]
        }
      ],
      "source": [
        "df['prev_traffic_volume'] = df['traffic_volume'].shift(1)"
      ]
    },
    {
      "cell_type": "code",
      "source": [
        "df['prev_traffic_volume'] = df['traffic_volume'].diff()"
      ],
      "metadata": {
        "id": "U-Q7kFnuEOJE",
        "outputId": "4d17001b-53aa-42cf-ef03-75166efcbd45",
        "colab": {
          "base_uri": "https://localhost:8080/"
        }
      },
      "id": "U-Q7kFnuEOJE",
      "execution_count": 21,
      "outputs": [
        {
          "output_type": "stream",
          "name": "stderr",
          "text": [
            "<ipython-input-21-c31c4245a97e>:1: SettingWithCopyWarning: \n",
            "A value is trying to be set on a copy of a slice from a DataFrame.\n",
            "Try using .loc[row_indexer,col_indexer] = value instead\n",
            "\n",
            "See the caveats in the documentation: https://pandas.pydata.org/pandas-docs/stable/user_guide/indexing.html#returning-a-view-versus-a-copy\n",
            "  df['prev_traffic_volume'] = df['traffic_volume'].diff()\n"
          ]
        }
      ]
    },
    {
      "cell_type": "code",
      "source": [
        "df['Day_of_Week'] = df.index.day_of_week\n",
        "df['Month'] = df.index.month\n",
        "df['Day_of_Year'] = df.index.day_of_year\n",
        "df['IsWeekend'] = df['Day_of_Week'].apply(lambda x: 1 if x >= 5 else 0)"
      ],
      "metadata": {
        "id": "bAFoP5yAD89V",
        "outputId": "3022c6cc-9356-4bce-fc85-bed6604cb6d7",
        "colab": {
          "base_uri": "https://localhost:8080/"
        }
      },
      "id": "bAFoP5yAD89V",
      "execution_count": 22,
      "outputs": [
        {
          "output_type": "stream",
          "name": "stderr",
          "text": [
            "<ipython-input-22-3f4b143e327d>:1: SettingWithCopyWarning: \n",
            "A value is trying to be set on a copy of a slice from a DataFrame.\n",
            "Try using .loc[row_indexer,col_indexer] = value instead\n",
            "\n",
            "See the caveats in the documentation: https://pandas.pydata.org/pandas-docs/stable/user_guide/indexing.html#returning-a-view-versus-a-copy\n",
            "  df['Day_of_Week'] = df.index.day_of_week\n",
            "<ipython-input-22-3f4b143e327d>:2: SettingWithCopyWarning: \n",
            "A value is trying to be set on a copy of a slice from a DataFrame.\n",
            "Try using .loc[row_indexer,col_indexer] = value instead\n",
            "\n",
            "See the caveats in the documentation: https://pandas.pydata.org/pandas-docs/stable/user_guide/indexing.html#returning-a-view-versus-a-copy\n",
            "  df['Month'] = df.index.month\n",
            "<ipython-input-22-3f4b143e327d>:3: SettingWithCopyWarning: \n",
            "A value is trying to be set on a copy of a slice from a DataFrame.\n",
            "Try using .loc[row_indexer,col_indexer] = value instead\n",
            "\n",
            "See the caveats in the documentation: https://pandas.pydata.org/pandas-docs/stable/user_guide/indexing.html#returning-a-view-versus-a-copy\n",
            "  df['Day_of_Year'] = df.index.day_of_year\n",
            "<ipython-input-22-3f4b143e327d>:4: SettingWithCopyWarning: \n",
            "A value is trying to be set on a copy of a slice from a DataFrame.\n",
            "Try using .loc[row_indexer,col_indexer] = value instead\n",
            "\n",
            "See the caveats in the documentation: https://pandas.pydata.org/pandas-docs/stable/user_guide/indexing.html#returning-a-view-versus-a-copy\n",
            "  df['IsWeekend'] = df['Day_of_Week'].apply(lambda x: 1 if x >= 5 else 0)\n"
          ]
        }
      ]
    },
    {
      "cell_type": "code",
      "source": [
        "df.isna().sum()"
      ],
      "metadata": {
        "id": "9TfpdwMTIsQx",
        "outputId": "91aac2cf-f047-42d2-f22f-8043919dc78e",
        "colab": {
          "base_uri": "https://localhost:8080/",
          "height": 460
        }
      },
      "id": "9TfpdwMTIsQx",
      "execution_count": 24,
      "outputs": [
        {
          "output_type": "execute_result",
          "data": {
            "text/plain": [
              "traffic_volume         0\n",
              "temp                   0\n",
              "rain_1h                0\n",
              "snow_1h                0\n",
              "clouds_all             0\n",
              "weather_main           0\n",
              "weather_description    0\n",
              "prev_traffic_volume    1\n",
              "Day_of_Week            0\n",
              "Month                  0\n",
              "Day_of_Year            0\n",
              "IsWeekend              0\n",
              "dtype: int64"
            ],
            "text/html": [
              "<div>\n",
              "<style scoped>\n",
              "    .dataframe tbody tr th:only-of-type {\n",
              "        vertical-align: middle;\n",
              "    }\n",
              "\n",
              "    .dataframe tbody tr th {\n",
              "        vertical-align: top;\n",
              "    }\n",
              "\n",
              "    .dataframe thead th {\n",
              "        text-align: right;\n",
              "    }\n",
              "</style>\n",
              "<table border=\"1\" class=\"dataframe\">\n",
              "  <thead>\n",
              "    <tr style=\"text-align: right;\">\n",
              "      <th></th>\n",
              "      <th>0</th>\n",
              "    </tr>\n",
              "  </thead>\n",
              "  <tbody>\n",
              "    <tr>\n",
              "      <th>traffic_volume</th>\n",
              "      <td>0</td>\n",
              "    </tr>\n",
              "    <tr>\n",
              "      <th>temp</th>\n",
              "      <td>0</td>\n",
              "    </tr>\n",
              "    <tr>\n",
              "      <th>rain_1h</th>\n",
              "      <td>0</td>\n",
              "    </tr>\n",
              "    <tr>\n",
              "      <th>snow_1h</th>\n",
              "      <td>0</td>\n",
              "    </tr>\n",
              "    <tr>\n",
              "      <th>clouds_all</th>\n",
              "      <td>0</td>\n",
              "    </tr>\n",
              "    <tr>\n",
              "      <th>weather_main</th>\n",
              "      <td>0</td>\n",
              "    </tr>\n",
              "    <tr>\n",
              "      <th>weather_description</th>\n",
              "      <td>0</td>\n",
              "    </tr>\n",
              "    <tr>\n",
              "      <th>prev_traffic_volume</th>\n",
              "      <td>1</td>\n",
              "    </tr>\n",
              "    <tr>\n",
              "      <th>Day_of_Week</th>\n",
              "      <td>0</td>\n",
              "    </tr>\n",
              "    <tr>\n",
              "      <th>Month</th>\n",
              "      <td>0</td>\n",
              "    </tr>\n",
              "    <tr>\n",
              "      <th>Day_of_Year</th>\n",
              "      <td>0</td>\n",
              "    </tr>\n",
              "    <tr>\n",
              "      <th>IsWeekend</th>\n",
              "      <td>0</td>\n",
              "    </tr>\n",
              "  </tbody>\n",
              "</table>\n",
              "</div><br><label><b>dtype:</b> int64</label>"
            ]
          },
          "metadata": {},
          "execution_count": 24
        }
      ]
    },
    {
      "cell_type": "code",
      "source": [
        "df['prev_traffic_volume']=df['prev_traffic_volume'].fillna(df['prev_traffic_volume'].mode()[0])"
      ],
      "metadata": {
        "id": "GT-zAgoVI3D-",
        "outputId": "e9f475c0-a168-494c-ce49-1ef7026c1e0f",
        "colab": {
          "base_uri": "https://localhost:8080/"
        }
      },
      "id": "GT-zAgoVI3D-",
      "execution_count": 25,
      "outputs": [
        {
          "output_type": "stream",
          "name": "stderr",
          "text": [
            "<ipython-input-25-7c539d8b1207>:1: SettingWithCopyWarning: \n",
            "A value is trying to be set on a copy of a slice from a DataFrame.\n",
            "Try using .loc[row_indexer,col_indexer] = value instead\n",
            "\n",
            "See the caveats in the documentation: https://pandas.pydata.org/pandas-docs/stable/user_guide/indexing.html#returning-a-view-versus-a-copy\n",
            "  df['prev_traffic_volume']=df['prev_traffic_volume'].fillna(df['prev_traffic_volume'].mode()[0])\n"
          ]
        }
      ]
    },
    {
      "cell_type": "markdown",
      "id": "3f9fe326",
      "metadata": {
        "id": "3f9fe326"
      },
      "source": [
        "## Train-Test Split\n",
        "\n",
        "Split the dataset into training and testing sets.\n",
        "\n",
        "**Instructions:**\n",
        "- Ensure the split maintains the time order of the data.\n",
        "- Decide on an appropriate ratio for splitting the data."
      ]
    },
    {
      "cell_type": "code",
      "execution_count": 26,
      "id": "38bd86e0",
      "metadata": {
        "id": "38bd86e0"
      },
      "outputs": [],
      "source": [
        "X=df.drop('traffic_volume', axis=1)\n",
        "y=df['traffic_volume']"
      ]
    },
    {
      "cell_type": "markdown",
      "id": "4bd267bb",
      "metadata": {
        "id": "4bd267bb"
      },
      "source": [
        "## Feature Scaling\n",
        "\n",
        "Apply feature scaling to the data if needed.\n",
        "\n",
        "**Instructions:**\n",
        "- Use a scaling method such as MinMaxScaler or StandardScaler.\n",
        "- Ensure scaling is applied correctly to both training and testing data."
      ]
    },
    {
      "cell_type": "code",
      "execution_count": 27,
      "id": "2a8387e5",
      "metadata": {
        "id": "2a8387e5"
      },
      "outputs": [],
      "source": [
        "from sklearn.model_selection import train_test_split\n",
        "X_train, X_test, y_train, y_test = train_test_split(X, y, test_size=0.2,shuffle=False)\n",
        "X_train, X_val, y_train, y_val = train_test_split(X_train, y_train, test_size=0.2, shuffle=False)"
      ]
    },
    {
      "cell_type": "markdown",
      "id": "4f0be6e9",
      "metadata": {
        "id": "4f0be6e9"
      },
      "source": [
        "## Models Selection\n",
        "\n",
        "Choose two models for time series forecasting.\n",
        "\n",
        "**Instructions:**\n",
        "- Select two models such as ARIMA, SARIMA, RNN, LSTM, or GRU.\n",
        "- Train these models and then compare their performance."
      ]
    },
    {
      "cell_type": "code",
      "execution_count": 28,
      "id": "ffceef22",
      "metadata": {
        "id": "ffceef22"
      },
      "outputs": [],
      "source": [
        "from sklearn.preprocessing import MinMaxScaler\n",
        "\n",
        "scaler = MinMaxScaler()\n",
        "\n",
        "train_pre= scaler.fit_transform(np.array(X_train).reshape(-1, 1))\n",
        "val_pre = scaler.transform(np.array(X_val).reshape(-1,1))\n",
        "test_pre = scaler.transform(np.array(X_test).reshape(-1,1))"
      ]
    },
    {
      "cell_type": "code",
      "source": [
        "from tensorflow.keras.utils import timeseries_dataset_from_array\n",
        "\n",
        "window_size = 60 # 60 days to predict 61\n",
        "\n",
        "train = timeseries_dataset_from_array(train_pre, targets=train_pre[window_size:], sequence_length=window_size)\n",
        "val = timeseries_dataset_from_array(val_pre, targets=val_pre[window_size:], sequence_length=window_size)\n",
        "test = timeseries_dataset_from_array(test_pre, targets=test_pre[window_size:], sequence_length=window_size)"
      ],
      "metadata": {
        "id": "GCo8QZ3tE3gI"
      },
      "id": "GCo8QZ3tE3gI",
      "execution_count": 29,
      "outputs": []
    },
    {
      "cell_type": "markdown",
      "id": "0981f787",
      "metadata": {
        "id": "0981f787"
      },
      "source": [
        "### Model 1 Training\n",
        "\n",
        "Train your first model on the training dataset.\n",
        "\n",
        "**Instructions:**\n",
        "- Fit the first model to the training data.\n",
        "- Ensure to monitor the training process."
      ]
    },
    {
      "cell_type": "code",
      "execution_count": 76,
      "id": "8205ed7f",
      "metadata": {
        "id": "8205ed7f",
        "outputId": "198184cd-c4f0-44fc-d8ae-02eb45f6c414",
        "colab": {
          "base_uri": "https://localhost:8080/"
        }
      },
      "outputs": [
        {
          "output_type": "stream",
          "name": "stderr",
          "text": [
            "/usr/local/lib/python3.10/dist-packages/keras/src/layers/rnn/rnn.py:204: UserWarning: Do not pass an `input_shape`/`input_dim` argument to a layer. When using Sequential models, prefer using an `Input(shape)` object as the first layer in the model instead.\n",
            "  super().__init__(**kwargs)\n"
          ]
        }
      ],
      "source": [
        "\n",
        "from keras.models import Sequential\n",
        "from keras.layers import LSTM, Dense, Dropout\n",
        "\n",
        "LT = Sequential()\n",
        "\n",
        "LT.add(LSTM(units=50, return_sequences=True, input_shape=(X_train.shape[1],1)))\n",
        "LT.add(Dropout(0.2))\n",
        "\n",
        "\n",
        "LT.add(LSTM(units=50, return_sequences=True))\n",
        "LT.add(Dropout(0.2))\n",
        "\n",
        "\n",
        "LT.add(LSTM(units=50, return_sequences=True))\n",
        "LT.add(Dropout(0.2))\n",
        "\n",
        "\n",
        "LT.add(LSTM(units=50))\n",
        "LT.add(Dropout(0.2))\n",
        "\n",
        "\n",
        "LT.add(Dense(units=1))"
      ]
    },
    {
      "cell_type": "code",
      "source": [
        "LT.compile(optimizer='adam', loss='mean_squared_error',metrics=['mae'])"
      ],
      "metadata": {
        "id": "ri41-xFDE-5S"
      },
      "id": "ri41-xFDE-5S",
      "execution_count": 78,
      "outputs": []
    },
    {
      "cell_type": "code",
      "source": [
        "history=LT.fit(train, validation_data=val, epochs=10,\n",
        "          batch_size=32, verbose=1)"
      ],
      "metadata": {
        "id": "jzoNtmUCFAVc",
        "outputId": "6030377a-8762-4981-878a-011409ae92db",
        "colab": {
          "base_uri": "https://localhost:8080/"
        }
      },
      "id": "jzoNtmUCFAVc",
      "execution_count": 79,
      "outputs": [
        {
          "output_type": "stream",
          "name": "stdout",
          "text": [
            "Epoch 1/10\n",
            "\u001b[1m1099/1099\u001b[0m \u001b[32m━━━━━━━━━━━━━━━━━━━━\u001b[0m\u001b[37m\u001b[0m \u001b[1m269s\u001b[0m 239ms/step - loss: 0.0074 - mae: 0.0514 - val_loss: 6.3740e-04 - val_mae: 0.0163\n",
            "Epoch 2/10\n",
            "\u001b[1m1099/1099\u001b[0m \u001b[32m━━━━━━━━━━━━━━━━━━━━\u001b[0m\u001b[37m\u001b[0m \u001b[1m264s\u001b[0m 240ms/step - loss: 0.0013 - mae: 0.0265 - val_loss: 4.8533e-04 - val_mae: 0.0080\n",
            "Epoch 3/10\n",
            "\u001b[1m1099/1099\u001b[0m \u001b[32m━━━━━━━━━━━━━━━━━━━━\u001b[0m\u001b[37m\u001b[0m \u001b[1m282s\u001b[0m 257ms/step - loss: 8.1023e-04 - mae: 0.0194 - val_loss: 4.7778e-04 - val_mae: 0.0073\n",
            "Epoch 4/10\n",
            "\u001b[1m1099/1099\u001b[0m \u001b[32m━━━━━━━━━━━━━━━━━━━━\u001b[0m\u001b[37m\u001b[0m \u001b[1m264s\u001b[0m 240ms/step - loss: 5.3548e-04 - mae: 0.0133 - val_loss: 4.6888e-04 - val_mae: 0.0083\n",
            "Epoch 5/10\n",
            "\u001b[1m1099/1099\u001b[0m \u001b[32m━━━━━━━━━━━━━━━━━━━━\u001b[0m\u001b[37m\u001b[0m \u001b[1m262s\u001b[0m 238ms/step - loss: 4.4826e-04 - mae: 0.0101 - val_loss: 4.7195e-04 - val_mae: 0.0076\n",
            "Epoch 6/10\n",
            "\u001b[1m1099/1099\u001b[0m \u001b[32m━━━━━━━━━━━━━━━━━━━━\u001b[0m\u001b[37m\u001b[0m \u001b[1m260s\u001b[0m 237ms/step - loss: 4.3262e-04 - mae: 0.0094 - val_loss: 4.7109e-04 - val_mae: 0.0076\n",
            "Epoch 7/10\n",
            "\u001b[1m1099/1099\u001b[0m \u001b[32m━━━━━━━━━━━━━━━━━━━━\u001b[0m\u001b[37m\u001b[0m \u001b[1m260s\u001b[0m 237ms/step - loss: 4.3088e-04 - mae: 0.0093 - val_loss: 4.6975e-04 - val_mae: 0.0078\n",
            "Epoch 8/10\n",
            "\u001b[1m1099/1099\u001b[0m \u001b[32m━━━━━━━━━━━━━━━━━━━━\u001b[0m\u001b[37m\u001b[0m \u001b[1m261s\u001b[0m 238ms/step - loss: 4.3007e-04 - mae: 0.0093 - val_loss: 4.6769e-04 - val_mae: 0.0079\n",
            "Epoch 9/10\n",
            "\u001b[1m1099/1099\u001b[0m \u001b[32m━━━━━━━━━━━━━━━━━━━━\u001b[0m\u001b[37m\u001b[0m \u001b[1m262s\u001b[0m 239ms/step - loss: 4.2776e-04 - mae: 0.0093 - val_loss: 4.5778e-04 - val_mae: 0.0081\n",
            "Epoch 10/10\n",
            "\u001b[1m1099/1099\u001b[0m \u001b[32m━━━━━━━━━━━━━━━━━━━━\u001b[0m\u001b[37m\u001b[0m \u001b[1m289s\u001b[0m 263ms/step - loss: 4.1675e-04 - mae: 0.0095 - val_loss: 4.4398e-04 - val_mae: 0.0086\n"
          ]
        }
      ]
    },
    {
      "cell_type": "markdown",
      "id": "5f5b3fe3",
      "metadata": {
        "id": "5f5b3fe3"
      },
      "source": [
        "### Make 1 Predictions\n",
        "\n",
        "Generate predictions on the test dataset.\n",
        "\n",
        "### Instructions:\n",
        "- Use the trained model to make predictions on the test data.\n",
        "- Store the predictions for further analysis."
      ]
    },
    {
      "cell_type": "code",
      "execution_count": 80,
      "id": "d1d5cca3",
      "metadata": {
        "id": "d1d5cca3"
      },
      "outputs": [],
      "source": [
        "X_test, y_test = next(iter(test))"
      ]
    },
    {
      "cell_type": "code",
      "source": [
        "y_pred = LT.predict(X_test)"
      ],
      "metadata": {
        "id": "EoafuWTRFDL_",
        "colab": {
          "base_uri": "https://localhost:8080/"
        },
        "outputId": "e1dc207e-02e7-4250-9733-10d2bb478791"
      },
      "id": "EoafuWTRFDL_",
      "execution_count": 81,
      "outputs": [
        {
          "output_type": "stream",
          "name": "stdout",
          "text": [
            "\u001b[1m4/4\u001b[0m \u001b[32m━━━━━━━━━━━━━━━━━━━━\u001b[0m\u001b[37m\u001b[0m \u001b[1m1s\u001b[0m 26ms/step\n"
          ]
        }
      ]
    },
    {
      "cell_type": "code",
      "source": [
        "predictions_df = pd.DataFrame(y_pred, columns=['predicteds'])\n",
        "predictions_df.to_csv('/content/Traffic Data.csv', index=True)"
      ],
      "metadata": {
        "id": "2_to9xU9cerA"
      },
      "id": "2_to9xU9cerA",
      "execution_count": 82,
      "outputs": []
    },
    {
      "cell_type": "markdown",
      "id": "6489cd08",
      "metadata": {
        "id": "6489cd08"
      },
      "source": [
        "### Model 1 Evaluation\n",
        "\n",
        "Evaluate the performance of your first model on the test dataset.\n",
        "\n",
        "**Instructions:**\n",
        "- Calculate evaluation metrics such as MAE, MSE, RMSE, or MAPE.\n",
        "- Plot the predicted vs actual values for the test set.\n",
        "- Plot the loss and the validation loss."
      ]
    },
    {
      "cell_type": "code",
      "source": [
        "LT.evaluate(X_test, y_test)"
      ],
      "metadata": {
        "colab": {
          "base_uri": "https://localhost:8080/"
        },
        "id": "V1xXOuoha3ld",
        "outputId": "1fc7a75a-5fbe-436c-e37a-23008a1fbaaa"
      },
      "id": "V1xXOuoha3ld",
      "execution_count": 83,
      "outputs": [
        {
          "output_type": "stream",
          "name": "stdout",
          "text": [
            "\u001b[1m4/4\u001b[0m \u001b[32m━━━━━━━━━━━━━━━━━━━━\u001b[0m\u001b[37m\u001b[0m \u001b[1m1s\u001b[0m 28ms/step - loss: 8.6505e-05 - mae: 0.0062\n"
          ]
        },
        {
          "output_type": "execute_result",
          "data": {
            "text/plain": [
              "[9.221189975505695e-05, 0.006426270119845867]"
            ]
          },
          "metadata": {},
          "execution_count": 83
        }
      ]
    },
    {
      "cell_type": "code",
      "execution_count": 84,
      "id": "aad46e07",
      "metadata": {
        "id": "aad46e07",
        "colab": {
          "base_uri": "https://localhost:8080/"
        },
        "outputId": "5e7f02e8-2004-4d13-9c9a-164e336ca257"
      },
      "outputs": [
        {
          "output_type": "stream",
          "name": "stdout",
          "text": [
            "Mean Absolute Error (MAE): 0.0064262649438905795\n"
          ]
        }
      ],
      "source": [
        "from sklearn.metrics import mean_absolute_error\n",
        "LT = mean_absolute_error(y_test, y_pred)\n",
        "print(f\"Mean Absolute Error (MAE): {LT}\")"
      ]
    },
    {
      "cell_type": "code",
      "source": [
        "y_pred = scaler.inverse_transform(y_pred)\n",
        "y_test_actual = scaler.inverse_transform(y_test)"
      ],
      "metadata": {
        "id": "1Vim7u3RFKtW"
      },
      "id": "1Vim7u3RFKtW",
      "execution_count": 85,
      "outputs": []
    },
    {
      "cell_type": "code",
      "source": [
        "plt.figure(figsize=(10, 6))\n",
        "plt.plot(y_test_actual, color='blue')\n",
        "plt.plot(y_pred, color='red')\n",
        "plt.legend(['Actual', 'Predicted'])\n",
        "plt.show()"
      ],
      "metadata": {
        "id": "9x4C70WPFMEe",
        "colab": {
          "base_uri": "https://localhost:8080/",
          "height": 522
        },
        "outputId": "0158bbe5-da52-45b3-a98e-9b098c1d22dd"
      },
      "id": "9x4C70WPFMEe",
      "execution_count": 86,
      "outputs": [
        {
          "output_type": "display_data",
          "data": {
            "text/plain": [
              "<Figure size 1000x600 with 1 Axes>"
            ],
            "image/png": "[encoded data removed]"
          },
          "metadata": {}
        }
      ]
    },
    {
      "cell_type": "code",
      "source": [
        "pd.DataFrame(history.history).plot()\n",
        "plt.show()"
      ],
      "metadata": {
        "id": "DjdQ-UcCFJCh",
        "colab": {
          "base_uri": "https://localhost:8080/",
          "height": 430
        },
        "outputId": "a768b57a-120a-46ed-81c8-8f7f442c5195"
      },
      "id": "DjdQ-UcCFJCh",
      "execution_count": 87,
      "outputs": [
        {
          "output_type": "display_data",
          "data": {
            "text/plain": [
              "<Figure size 640x480 with 1 Axes>"
            ],
            "image/png": "[encoded data removed]"
          },
          "metadata": {}
        }
      ]
    },
    {
      "cell_type": "markdown",
      "id": "82dd396a",
      "metadata": {
        "id": "82dd396a"
      },
      "source": [
        "### Model 2 Training\n",
        "\n",
        "Train your second model on the training dataset.\n",
        "\n",
        "**Instructions:**\n",
        "- Fit the second model to the training data.\n",
        "- Ensure to monitor the training process."
      ]
    },
    {
      "cell_type": "code",
      "execution_count": 42,
      "id": "b8605884",
      "metadata": {
        "id": "b8605884",
        "colab": {
          "base_uri": "https://localhost:8080/"
        },
        "outputId": "dabc6452-b619-49b6-d97c-c4e7f011dce8"
      },
      "outputs": [
        {
          "output_type": "stream",
          "name": "stderr",
          "text": [
            "/usr/local/lib/python3.10/dist-packages/keras/src/layers/rnn/rnn.py:204: UserWarning: Do not pass an `input_shape`/`input_dim` argument to a layer. When using Sequential models, prefer using an `Input(shape)` object as the first layer in the model instead.\n",
            "  super().__init__(**kwargs)\n"
          ]
        }
      ],
      "source": [
        "from keras.models import Sequential\n",
        "from keras.layers import GRU, Dense, Dropout\n",
        "\n",
        "GR = Sequential()\n",
        "\n",
        "GR.add(GRU(units=50, return_sequences=True, input_shape=(X_train.shape[1],1)))\n",
        "GR.add(Dropout(0.2))\n",
        "\n",
        "\n",
        "GR.add(GRU(units=50, return_sequences=True))\n",
        "GR.add(Dropout(0.2))\n",
        "\n",
        "\n",
        "GR.add(GRU(units=50, return_sequences=True))\n",
        "GR.add(Dropout(0.2))\n",
        "\n",
        "\n",
        "GR.add(GRU(units=50))\n",
        "GR.add(Dropout(0.2))\n",
        "\n",
        "\n",
        "GR.add(Dense(units=1))"
      ]
    },
    {
      "cell_type": "code",
      "source": [
        "GR.compile(optimizer='adam', loss='mean_squared_error',metrics=['mae'])"
      ],
      "metadata": {
        "id": "LssgCvJOdFfb"
      },
      "id": "LssgCvJOdFfb",
      "execution_count": 44,
      "outputs": []
    },
    {
      "cell_type": "code",
      "source": [
        "history=GR.fit(train, validation_data=val, epochs=10,\n",
        "          batch_size=32, verbose=1)"
      ],
      "metadata": {
        "colab": {
          "base_uri": "https://localhost:8080/"
        },
        "id": "GFN1fmlLdPBx",
        "outputId": "ed8df6f1-a957-4587-e1e0-e9bed017d75e"
      },
      "id": "GFN1fmlLdPBx",
      "execution_count": 46,
      "outputs": [
        {
          "output_type": "stream",
          "name": "stdout",
          "text": [
            "Epoch 1/10\n",
            "\u001b[1m1099/1099\u001b[0m \u001b[32m━━━━━━━━━━━━━━━━━━━━\u001b[0m\u001b[37m\u001b[0m \u001b[1m354s\u001b[0m 314ms/step - loss: 0.0069 - mae: 0.0514 - val_loss: 6.9020e-04 - val_mae: 0.0180\n",
            "Epoch 2/10\n",
            "\u001b[1m1099/1099\u001b[0m \u001b[32m━━━━━━━━━━━━━━━━━━━━\u001b[0m\u001b[37m\u001b[0m \u001b[1m310s\u001b[0m 282ms/step - loss: 0.0013 - mae: 0.0263 - val_loss: 4.7071e-04 - val_mae: 0.0077\n",
            "Epoch 3/10\n",
            "\u001b[1m1099/1099\u001b[0m \u001b[32m━━━━━━━━━━━━━━━━━━━━\u001b[0m\u001b[37m\u001b[0m \u001b[1m313s\u001b[0m 285ms/step - loss: 7.8362e-04 - mae: 0.0190 - val_loss: 4.7100e-04 - val_mae: 0.0077\n",
            "Epoch 4/10\n",
            "\u001b[1m1099/1099\u001b[0m \u001b[32m━━━━━━━━━━━━━━━━━━━━\u001b[0m\u001b[37m\u001b[0m \u001b[1m311s\u001b[0m 283ms/step - loss: 5.2378e-04 - mae: 0.0129 - val_loss: 4.6986e-04 - val_mae: 0.0078\n",
            "Epoch 5/10\n",
            "\u001b[1m1099/1099\u001b[0m \u001b[32m━━━━━━━━━━━━━━━━━━━━\u001b[0m\u001b[37m\u001b[0m \u001b[1m312s\u001b[0m 284ms/step - loss: 4.4576e-04 - mae: 0.0100 - val_loss: 4.6882e-04 - val_mae: 0.0079\n",
            "Epoch 6/10\n",
            "\u001b[1m1099/1099\u001b[0m \u001b[32m━━━━━━━━━━━━━━━━━━━━\u001b[0m\u001b[37m\u001b[0m \u001b[1m310s\u001b[0m 282ms/step - loss: 4.3455e-04 - mae: 0.0095 - val_loss: 4.6711e-04 - val_mae: 0.0077\n",
            "Epoch 7/10\n",
            "\u001b[1m1099/1099\u001b[0m \u001b[32m━━━━━━━━━━━━━━━━━━━━\u001b[0m\u001b[37m\u001b[0m \u001b[1m331s\u001b[0m 301ms/step - loss: 4.2935e-04 - mae: 0.0095 - val_loss: 4.4880e-04 - val_mae: 0.0085\n",
            "Epoch 8/10\n",
            "\u001b[1m1099/1099\u001b[0m \u001b[32m━━━━━━━━━━━━━━━━━━━━\u001b[0m\u001b[37m\u001b[0m \u001b[1m312s\u001b[0m 284ms/step - loss: 4.1330e-04 - mae: 0.0096 - val_loss: 4.4582e-04 - val_mae: 0.0088\n",
            "Epoch 9/10\n",
            "\u001b[1m1099/1099\u001b[0m \u001b[32m━━━━━━━━━━━━━━━━━━━━\u001b[0m\u001b[37m\u001b[0m \u001b[1m329s\u001b[0m 299ms/step - loss: 4.0638e-04 - mae: 0.0095 - val_loss: 4.2526e-04 - val_mae: 0.0087\n",
            "Epoch 10/10\n",
            "\u001b[1m1099/1099\u001b[0m \u001b[32m━━━━━━━━━━━━━━━━━━━━\u001b[0m\u001b[37m\u001b[0m \u001b[1m311s\u001b[0m 283ms/step - loss: 3.9569e-04 - mae: 0.0094 - val_loss: 4.1924e-04 - val_mae: 0.0088\n"
          ]
        }
      ]
    },
    {
      "cell_type": "markdown",
      "id": "3e811d93",
      "metadata": {
        "id": "3e811d93"
      },
      "source": [
        "### Make 2 Predictions\n",
        "\n",
        "Generate predictions on the test dataset.\n",
        "\n",
        "### Instructions:\n",
        "- Use the trained model to make predictions on the test data.\n",
        "- Store the predictions for further analysis."
      ]
    },
    {
      "cell_type": "code",
      "source": [
        "y_pred_GR = GR.predict(X_test)"
      ],
      "metadata": {
        "colab": {
          "base_uri": "https://localhost:8080/"
        },
        "id": "HBElTcjKdpJT",
        "outputId": "132a77dd-a12a-4bb8-ed61-82cf7ecebf3e"
      },
      "id": "HBElTcjKdpJT",
      "execution_count": 47,
      "outputs": [
        {
          "output_type": "stream",
          "name": "stdout",
          "text": [
            "\u001b[1m4/4\u001b[0m \u001b[32m━━━━━━━━━━━━━━━━━━━━\u001b[0m\u001b[37m\u001b[0m \u001b[1m1s\u001b[0m 29ms/step\n"
          ]
        }
      ]
    },
    {
      "cell_type": "code",
      "source": [
        "predictions_df = pd.DataFrame(y_pred_GR, columns=['predicteds'])\n",
        "predictions_df.to_csv('/content/Traffic Data.csv', index=True)"
      ],
      "metadata": {
        "id": "ZF7tGM1udwJV"
      },
      "id": "ZF7tGM1udwJV",
      "execution_count": 48,
      "outputs": []
    },
    {
      "cell_type": "markdown",
      "id": "9d7f7af2",
      "metadata": {
        "id": "9d7f7af2"
      },
      "source": [
        "### Model 2 Evaluation\n",
        "\n",
        "Evaluate the performance of your second model on the test dataset.\n",
        "\n",
        "**Instructions:**\n",
        "- Calculate evaluation metrics such as MAE, MSE, RMSE, or MAPE.\n",
        "- Plot the predicted vs actual values for the test set.\n",
        "- Plot the loss and the validation loss."
      ]
    },
    {
      "cell_type": "code",
      "execution_count": 49,
      "id": "d1492fe0",
      "metadata": {
        "id": "d1492fe0",
        "colab": {
          "base_uri": "https://localhost:8080/"
        },
        "outputId": "30cfeb45-c755-4cf9-a072-0319d51625b1"
      },
      "outputs": [
        {
          "output_type": "stream",
          "name": "stdout",
          "text": [
            "\u001b[1m4/4\u001b[0m \u001b[32m━━━━━━━━━━━━━━━━━━━━\u001b[0m\u001b[37m\u001b[0m \u001b[1m1s\u001b[0m 27ms/step - loss: 8.2759e-05 - mae: 0.0064\n"
          ]
        },
        {
          "output_type": "execute_result",
          "data": {
            "text/plain": [
              "[8.694801363162696e-05, 0.0065154340118169785]"
            ]
          },
          "metadata": {},
          "execution_count": 49
        }
      ],
      "source": [
        "GR.evaluate(X_test, y_test)"
      ]
    },
    {
      "cell_type": "code",
      "source": [
        "GR = mean_absolute_error(y_test, y_pred)\n",
        "print(f\"Mean Absolute Error (MAE): {GR}\")"
      ],
      "metadata": {
        "colab": {
          "base_uri": "https://localhost:8080/"
        },
        "id": "IDqaff4Qdg_X",
        "outputId": "e9dba1a1-e3a4-4c1d-c048-1504e0a0ff36"
      },
      "id": "IDqaff4Qdg_X",
      "execution_count": 50,
      "outputs": [
        {
          "output_type": "stream",
          "name": "stdout",
          "text": [
            "Mean Absolute Error (MAE): 25.995486007960054\n"
          ]
        }
      ]
    },
    {
      "cell_type": "code",
      "source": [
        "y_pred_GR = scaler.inverse_transform(y_pred)\n",
        "y_test_actual = scaler.inverse_transform(y_test)"
      ],
      "metadata": {
        "id": "jSgy6uK4eI1-"
      },
      "id": "jSgy6uK4eI1-",
      "execution_count": 56,
      "outputs": []
    },
    {
      "cell_type": "code",
      "source": [
        "plt.figure(figsize=(10, 6))\n",
        "plt.plot(y_test_actual, color='blue')\n",
        "plt.plot(y_pred_GR, color='red')\n",
        "plt.legend(['Actual', 'Predicted'])\n",
        "plt.show()"
      ],
      "metadata": {
        "colab": {
          "base_uri": "https://localhost:8080/",
          "height": 537
        },
        "id": "qtlNyx3EeIBW",
        "outputId": "2528a914-d214-4bae-c0e0-c3d4d313e5a8"
      },
      "id": "qtlNyx3EeIBW",
      "execution_count": 57,
      "outputs": [
        {
          "output_type": "display_data",
          "data": {
            "text/plain": [
              "<Figure size 1000x600 with 1 Axes>"
            ],
            "image/png": "[encoded data removed]"
          },
          "metadata": {}
        }
      ]
    },
    {
      "cell_type": "code",
      "execution_count": 55,
      "id": "7c3b85de",
      "metadata": {
        "id": "7c3b85de",
        "colab": {
          "base_uri": "https://localhost:8080/",
          "height": 430
        },
        "outputId": "986028ca-76ee-4f1d-923a-f09a9cccc2b8"
      },
      "outputs": [
        {
          "output_type": "display_data",
          "data": {
            "text/plain": [
              "<Figure size 640x480 with 1 Axes>"
            ],
            "image/png": "[encoded data removed]"
          },
          "metadata": {}
        }
      ],
      "source": [
        "pd.DataFrame(history.history).plot()\n",
        "plt.show()"
      ]
    },
    {
      "cell_type": "markdown",
      "id": "9cb9e77a",
      "metadata": {
        "id": "9cb9e77a"
      },
      "source": [
        "## Project Questions:\n",
        "\n",
        "1. **Data Preprocessing**: Explain why you chose your specific data preprocessing techniques (e.g., normalization, handling missing values). How did these techniques help prepare the data for training the model?\n",
        "2. **Feature Engineering**: Did you perform any feature engineering or transformations? Describe your decisions and how these new features (or transformed features) contributed to the forecasting model.\n",
        "3. **Model Architecture**: Describe the reasoning behind your model’s architecture (e.g., the type of model, layers, number of neurons, and activation functions). Why did you believe this architecture was appropriate for time series forecasting?\n",
        "4. **Training Process**: Discuss why you chose your batch size, number of epochs, and optimizer. How did these choices affect the training process? Did you experiment with different values, and what were the outcomes?\n",
        "5. **Loss Function and Metrics**: Why did you choose the specific loss function and evaluation metrics (e.g., MAE, RMSE, MAPE)? How do they align with the objective of forecasting?\n",
        "6. **Model Tuning (If Done)**: Describe any tuning you performed (e.g., hyperparameter tuning) and why you felt it was necessary. How did these adjustments improve model performance?\n",
        "7. **Overfitting and Underfitting**: Analyze whether the model encountered any overfitting or underfitting during training. What strategies could you implement to mitigate these issues?\n",
        "8. **Future Improvements**: Suggest potential improvements or further steps you could take to enhance model performance. Consider using different algorithms, feature engineering techniques, or tuning hyperparameters."
      ]
    },
    {
      "cell_type": "markdown",
      "id": "67ba7c70",
      "metadata": {
        "id": "67ba7c70"
      },
      "source": [
        "### Answer Here:"
      ]
    }
  ],
  "metadata": {
    "kernelspec": {
      "display_name": "base",
      "language": "python",
      "name": "python3"
    },
    "language_info": {
      "codemirror_mode": {
        "name": "ipython",
        "version": 3
      },
      "file_extension": ".py",
      "mimetype": "text/x-python",
      "name": "python",
      "nbconvert_exporter": "python",
      "pygments_lexer": "ipython3",
      "version": "3.12.4"
    },
    "colab": {
      "provenance": [],
      "include_colab_link": true
    }
  },
  "nbformat": 4,
  "nbformat_minor": 5
}